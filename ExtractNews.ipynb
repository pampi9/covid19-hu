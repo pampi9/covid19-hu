{
 "cells": [
  {
   "cell_type": "code",
   "execution_count": 1,
   "metadata": {},
   "outputs": [],
   "source": [
    "import os\n",
    "import sys\n",
    "base_dir = os.path.join(\"/home/jovyan/work/Corona/COVID-19\")\n",
    "sys.path.append(base_dir)\n",
    "import model as md\n",
    "import pandas as pd"
   ]
  },
  {
   "cell_type": "code",
   "execution_count": 2,
   "metadata": {},
   "outputs": [],
   "source": [
    "#NewsExtractor(2)\n",
    "def createJson(date, day, json=False):\n",
    "    news_reader = md.NewsReader(data_dir=\"data\", month=date, date=\"{}-{}\".format(date, day), string_filter=True)\n",
    "    repartition = news_reader.repartition[\n",
    "        (news_reader.repartition[\"h1\"]==\"Az aktív fertőzöttek megyei eloszlása\")\n",
    "        & (news_reader.repartition[\"date\"].dt.day == int(day))\n",
    "    ][\"body\"].unique()\n",
    "    date_of_info = news_reader.repartition[\n",
    "        (news_reader.repartition[\"h1\"]==\"Az aktív fertőzöttek megyei eloszlása\")\n",
    "        & (news_reader.repartition[\"date\"].dt.day == int(day))\n",
    "    ][\"date\"].unique()\n",
    "    print(date_of_info)\n",
    "    if len(repartition)>0:\n",
    "        table = \"Aktív fertőzöttek száma{}\".format(repartition[0].split(\"Aktív fertőzöttek száma\")[1]).split(\"\\n\\n\\n\\n\\n\")\n",
    "        df = pd.DataFrame(table, columns=[\"full\"])\n",
    "        df[\"full\"] = df[\"full\"].str.split(\"\\n\\n\\n\")\n",
    "        df[\"len\"] = df[\"full\"].apply(lambda cell: len(cell))\n",
    "        df = df[df[\"len\"]==3].copy()\n",
    "        df['region'], df['active'], df['death'] = zip(*df[\"full\"])\n",
    "        df['date'] = \"{}-{}\".format(date, day)\n",
    "        df[['date', 'region', 'active', 'death']].to_json('repartition/{}-{}.json'.format(date, day), orient='records')\n",
    "        return df[['date', 'region', 'active', 'death']]"
   ]
  },
  {
   "cell_type": "code",
   "execution_count": 7,
   "metadata": {
    "scrolled": false
   },
   "outputs": [
    {
     "name": "stdout",
     "output_type": "stream",
     "text": [
      "INFO:root:2020-12-17 09:07:00\n",
      "INFO:root:https://koronavirus.gov.hu/cikkek/2-982-fovel-emelkedett-beazonositott-fertozottek-szama-es-elhunyt-157-beteg\n",
      "INFO:root:\n",
      "2 982 újabb magyar állampolgárnál mutatták ki az új koronavírus-fertőzést (COVID-19), ezzel 291 549 főre nőtt a hazánkban beazonosított fertőzöttek száma. Elhunyt 157 többségében idős, krónikus beteg, így az elhunytak száma 7 538 főre emelkedett. A gyógyultak száma is folyamatosan nő, jelenleg 86 954 fő, az aktív fertőzöttek száma 197 057 fő. Az aktív fertőzöttek 18%-a, az elhunytak 20%-a, a gyógyultak 23%-a budapesti. 7 522 koronavírusos beteget \u001b[4mápolnak\u001b[0m kórházban, közülük 573-an vannak \u001b[4mlélegeztetőgépen\u001b[0m.\n",
      "\n",
      "Egész Európában, a szomszédos országokban és Magyarországon is tovább nő a fertőzöttek száma, egyre többen igényelnek kórházi ellátást. A járványt megállítani nem lehet, továbbra is a járvány lassítása és a kórházak teljesítőképességének védelme a cél. Ezt szolgálják a veszélyhelyzettel kihirdetett védelmi intézkedések, amelyeket a kormány további egy hónapig meghosszabbított, tehát január 11-ig fennmarad a jelenlegi kijárási tilalom és a többi védelmi intézkedés. Az egészségügyi védekezés fenntartása  érdekében a kormány egy félévvel meghosszabbította a járványügyi készültséget is. A karácsonyi ünnepekre vonatkozó szabályokról december 21-én lesz döntés, az esti kijárási tilalom szilveszterkor is életben lesz. \n",
      "Mát több mint 200 ezren regisztráltak a védőoltásra a https://vakcinainfo.gov.hu/ honlapon. A kormány mindent lehetséges külföldi vakcina beszerzéséről tárgyal, eddig 17,5 millió adag oltóanyagot kötött le.  Ha meglesz a megfelelő és a hatóságok által engedélyezett vakcina, akkor a védőoltások beadása az Oltási terv szerv zajlik majd, elsőbbséget fognak élvezni az egészségügyi dolgozók. A nyugdíjasok számára a posta december folyamán kézbesíteni azt a levelet, amelyben Dr. Müller Cecília országos tisztifőorvos tájékoztatja őket  a regisztráció lehetőségéről. A nyugdíjasok a levélhez mellékelt adatlap kitöltésével és visszaküldésével is jelezhetik igényüket a koronavírus elleni oltásra. A védőoltás ingyenes és önkéntes lesz.\n",
      "A kormány felfüggesztette az idősek vásárlási idősávját, hogy a karácsonyi bevásárlások idején ne legyen tumultus az üzletekben. A felfüggesztés ezzel ellentétes döntésig marad érvényben. Időkorlátozás nélkül vásárolhat bárki az élelmiszerboltokban, a patikákban és drogériákban is. Az idősek vásárlási sávjának felfüggesztését a hazai kereskedelmi szervezetek kezdeményezték és azzal az Idősügyi Tanács is egyetértett. A vásárlás során továbbra is kötelező a maszk viselése. Az időseket arra kérjük, hogy ha tehetik, akkor inkább kérjék hozzátartozójuk segítségét a bevásárláshoz, de ha személyesen mennek vásárolni, akkor kerüljék a zsúfolt üzleteket!\n",
      "Kiemelten fontos az idősek és krónikus betegek védelme. Az időseket is kérjük, hogy fokozottan figyeljenek magukra és az általános óvintézkedések betartására. Felhívjuk a figyelmet, hogy a kórházakban és az idősotthonokban változatlanul látogatási tilalom van érvényben.\n",
      "Az egészségügyi dolgozók mellett a védekezésben résztvevő szociális dolgozók, a rendőrök, katonák és közszolgálati tisztviselők is díjmentesen használhatják a közösségi közlekedési eszközöket. Az ingyenes utazáshoz munkáltatói igazolás szükséges arról, hogy a személy a veszélyhelyzettel összefüggő vagy a  koronavírus-világjárvány következményeinek elhárítása érdekében szükséges feladatokat lát el. \n",
      "Este 8 óra és reggel 5 óra között továbbra is kijárási tilalom van érvényben, mindenkinek haza kell érnie este 8 óráig. A kijárási tilalom alóli mentesülés egyik esete a munkavégzés, amelyet azonban igazolni szükséges. Igazolásminta: https://koronavirus.gov.hu/cikkek/kijarasi-tilalom-alatti-munkavegzesrol-szolo-igazolas-letoltheto-igazolas-minta\n",
      "Az üzletek - a gyógyszertárak és a benzinkutak kivételével - este 7 óráig maradhatnak nyitva és utána a kijárási tilalom lejártával, tehát leghamarabb reggel 5 órakor nyithatnak ki. A rendeletben nem említett szolgáltatók és szolgáltatások (például fodrász, masszőr, személyi edző) a szokott rendben működhetnek a kijárási tilalom szabályai mellett.\n",
      "A maszkviseléssel és távolságtartással kapcsolatosan eddig bevezetett szabályok továbbra is érvényesek, azzal, hogy a 10 000 főnél nagyobb település egyes közterületein a maszkviselés kötelező. A területek kijelölése a polgármester feladata. Sporttevékenység során, valamint a parkokban, illetve zöldterületeken a maszk viselése továbbra sem kötelező.\n",
      "Minden gyülekezés tilos. Az éttermek vendéget nem fogadhatnak, vendégnek ott csak az étel elvitele céljából lehet tartózkodni. A szállodák turistákat nem fogadhatnak, csak üzleti, gazdasági vagy oktatási célból érkezett vendégeket. Mindennemű rendezvény megtartása tilos, ide értve a kulturális eseményeket valamint a karácsonyi vásárokat. A sportmérkőzéseket zárt kapuk mögött kell megtartani. A szabadidős létesítmények használata tilos, beleértve különösen a fitnesztermeket, fedett uszodákat, múzeumokat, könyvtárakat, mozikat és állatkerteket, korcsolyapályákat.\n",
      "A bölcsődék, az óvodák és az általános iskolák a 8. osztályig a megszokott rend szerint nyitva tartanak, a speciális intézményi védelmi intézkedéseket az igazgató határozza meg. A középiskolák és egyetemek digitális munkarendre tértek át.  A helyhez kötött internet-hozzáférési szolgáltatás harminc napra ingyenesen vehető igénybe a digitális oktatásban résztvevő diákok és pedagógusok  számára a köznevelésben és a szakképzésben.\n",
      "Az Operatív Törzs jelenleg 158 óvodában egy-egy csoportot érintően (5%), 84 óvodában (3%) és 51 általános iskolában (2%) az egész intézményt érintően rendelt el rendkívüli szünetet, továbbá 406 általános iskolában egy-két osztályt (16%) és 31 általános iskolában (1%) a teljes intézményt érintően digitális tanrendet.\n",
      "Lezárult a célzott csoportos tesztelés 3. köre is. Az elmúlt hetekben összesen 430 ezer gyorstesztet végeztek a bölcsődei, óvodai, iskolai, szociális, egészségügyi, kormányhivatali és járási hivatali dolgozók körében. A gyorstesztelések a vártnál alacsonyabb részvétel mellett zajlottak, a megjelentek kevesebb mint 2%-a bizonyult pozitívnak. A célzott csoportos tesztelés folytatásáról az Operatív Törzs dönthet. Az egészségügyi és szociális intézmények továbbra is igényelhetik a gyorsteszteket.\n",
      "Magán és családi rendezvények (például: születésnap) 10 főig megtarthatóak. Temetés legfeljebb 50 fővel tartható meg. Esküvők lakodalom nélkül tarthatóak meg, azonban az eseményen csak meghatározott személyek vehetnek részt.\n",
      "A közterületi parkolás ingyenes. A kereskedelmi célú P+R, parkolóház, parkológarázs, zárt felszíni parkoló és nem zárt felszíni parkoló díjfizetés nélkül vehető igénybe az este 7-től reggel 7 óráig. A létesítmény üzemeltetője köteles ebben az idősávban az ingyenes parkolást lehetővé tenni.\n",
      "A rendőrség szigorúan ellenőrzi a szabályok betartását, pénzbírságot szabhat ki, és azokat a helyeket, ahol nem tartják be az előírásokat, bezárja. A katonák az ország több városában támogatják a rendőrök munkáját és a kórházban tehermentesítik az egészségügyi dolgozókat.\n",
      "Magyarországon mindenkinek jut kórházi ágy, ellátás, lélegeztetőgép, és a védelmi intézkedésekkel az a cél, hogy ez így is maradjon.  Annak érdekében, hogy a növekvő betegszámmal a koronavírusos betegek kórházi ellátása továbbra is biztosított legyen, a halasztható műtéteket felfüggesztették, bővült az ellátásba bevont kórházak és koronavírusos betegek számára fenntartott kórházi ágyak száma.\n",
      "A közösségi terjedés megfékezése érdekében továbbra is kerüljük azokat a helyeket, ahol zárt térben sokan vannak, lehetőleg tartsuk a szociális távolságot, gyakran és alaposan mossunk kezet. Akinél külföldi tartózkodás vagy egyéb ok miatt hatósági házi karantént rendeltek el, az szigorúan tartsa be. Bárki, akinek tünetei vannak, az ne menjen közösségbe, hanem maradjon otthon és telefonon értesítse háziorvosát.\n",
      "Az egészségügyi védekezés részeként már zajlik az ingyenes influenza elleni oltások beadása. Folyamatos a háziorvosi praxisok ellátása az influenza elleni védőoltással.\n",
      "A kormány az egészségügyi védekezés fenntartása mellett, további gazdaságvédelmi és családvédelmi intézkedéseken is dolgozik.\n",
      "\n",
      "\n"
     ]
    },
    {
     "name": "stdout",
     "output_type": "stream",
     "text": [
      "INFO:root:2020-12-17 13:56:00\n",
      "INFO:root:https://koronavirus.gov.hu/cikkek/operativ-torzs-december-vegen-kezdodhet-az-egeszsegugyi-dolgozok-oltasa\n",
      "INFO:root:\n",
      "Már december végén elkezdődhet az egészségügyi dolgozók oltása a kijelölt oltópontokon Magyarországon - mondta az operatív törzs nevében megszólaló Galgóczi Ágnes a koronavírus-járvány elleni védekezésért felelős testület csütörtöki online sajtótájékoztatóján.\n",
      "\n",
      "\n",
      "A Nemzeti Népegészségügyi Központ (NNK) járványügyi osztályvezetőjének szavai szerint egyre reménykeltőbb hírek érkeznek a vakcináról: december 21-én dönthet az Európai Gyógyszerügynökség a Pfizer oltóanyagának engedélyezéséről, ezután kezdődhet az oltóanyag kiszállítása és indulhat az oltás Magyarországon is.\n",
      "    Hozzátette, a kormány más oltóanyaggyártók - az AstraZeneca, a Janssen, a CureVac és a Moderna - vakcináiból is lekötött 17,5 millió adagot. A gyógyszerészeti hatóság emellett vizsgálja az orosz és a kínai vakcina felhasználási lehetőségeit is.\n",
      "    Galgóczi Ágnes újságírói kérdésre válaszolva elmondta, hogy a kórházakban továbbra is érvényben van a látogatási tilalom, a kórházak ugyanakkor a haldoklókhoz és szülő nőkhöz kötelesek a hozzátartozókat beengedni.\n",
      "    Az osztályvezető arra a kérdésre, hogy mennyi időnek kell eltelnie az influenza elleni és a koronavírus elleni védőoltás beadása között, alkalmazható-e a kettő együtt, valamint igaz-e, hogy bizonyos előrehaladottabb stádiumú alapbetegségek esetén nem ajánlott a vakcina, azt közölte: minden egyes oltóanyag egyedi engedélyt kap, a készítmény nyilvánossá váló alkalmazási előiratában minden, a vakcina felhasználásával kapcsolatos adat megismerhető lesz.\n",
      "    Galgóczi Ágnes hangoztatta, hogy akinek a koronavírustesztje pozitív eredményt mutat, annak ezt jeleznie kell a háziorvosának. Ezután járványügyi intézkedés következik, a fertőzöttet elkülönítik - mutatott rá.\n",
      "    A szakember a járványügyi adatokat ismertetve elmondta: az elmúlt 24 órában 2982 újabb magyar állampolgárnál mutatták ki a koronavírus-fertőzést, ezzel 291 549-re emelkedett az azonosított fertőzöttek száma. Meghalt 157 többségében idős, krónikus beteg, velük együtt már 7538-en hunytak el a betegséggel összefüggésben.\n",
      "    Kórházban 7522 koronavírusos beteget \u001b[4mápolnak\u001b[0m, közülük 573-an szorulnak gépi lélegeztetésre - fűzte hozzá.\n",
      "    Kitért arra, hogy Magyarországon az eddig igazolt fertőzöttek 56 százaléka nő, 44 százaléka férfi, az átlagéletkoruk 45 év, az elhunytaké 75 év.\n",
      "    Szólt arról, hogy az 50. héten 29 725 embernél igazolódott a koronavírus-fertőzés, a fertőzöttek 23,1 százaléka a 40-49 év közötti, 17 százaléka a 65 év feletti korosztályba tartozik, 4,5 százaléka gyermek.\n",
      "    A fertőzéssel a települések 96 százaléka érintett, az 50. héten regisztrált esetek 13 százaléka Budapesten, 11 százaléka\n",
      "Pest megyében, 4 százaléka Hajdú-Biharban volt, a legkevesebb fertőzöttet, 3 százalékot Hevesben igazoltak - mondta el.\n",
      "    Galgóczi Ágnes jelezte: a 49-ről az 50. hétre a legnagyobb arányban Somogyban nőtt a nőtt az új esetek száma, ahol 17 százalékkal több fertőzöttet azonosítottak. Baranyában 7, Fejérben 4 százalékkal nőtt, Nógrádban gyakorlatilag nem változott, a többi megyében csökkent az esetszám.\n",
      "    Galgóczi Ágnes felhívta a figyelmet a védelmi intézkedések fontosságára. Arra kérte az embereket, kerüljék a zsúfolt helyeket, tartsák be a maszkviselési, higiéniai szabályokat.\n",
      "\n",
      "MTI 2020. december 17.\n",
      "\n",
      "\n",
      "[]\n"
     ]
    }
   ],
   "source": [
    "createJson(\"2020-12\", \"17\", True)"
   ]
  },
  {
   "cell_type": "code",
   "execution_count": null,
   "metadata": {},
   "outputs": [],
   "source": []
  }
 ],
 "metadata": {
  "kernelspec": {
   "display_name": "Python 3",
   "language": "python",
   "name": "python3"
  },
  "language_info": {
   "codemirror_mode": {
    "name": "ipython",
    "version": 3
   },
   "file_extension": ".py",
   "mimetype": "text/x-python",
   "name": "python",
   "nbconvert_exporter": "python",
   "pygments_lexer": "ipython3",
   "version": "3.7.6"
  }
 },
 "nbformat": 4,
 "nbformat_minor": 2
}
