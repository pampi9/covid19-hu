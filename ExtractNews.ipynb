{
 "cells": [
  {
   "cell_type": "code",
   "execution_count": 2,
   "metadata": {},
   "outputs": [],
   "source": [
    "import os\n",
    "import sys\n",
    "base_dir = os.path.join(\"/home/jovyan/work/Corona/COVID-19\")\n",
    "sys.path.append(base_dir)\n",
    "import model as md\n",
    "import pandas as pd"
   ]
  },
  {
   "cell_type": "code",
   "execution_count": 3,
   "metadata": {},
   "outputs": [],
   "source": [
    "#NewsExtractor(2)\n",
    "def createJson(date, day, json=False):\n",
    "    news_reader = md.NewsReader(data_dir=\"data\", month=date, date=\"{}-{}\".format(date, day), string_filter=True)\n",
    "    repartition = news_reader.repartition[\n",
    "        (news_reader.repartition[\"h1\"]==\"Az aktív fertőzöttek megyei eloszlása\")\n",
    "        & (news_reader.repartition[\"date\"].dt.day == int(day))\n",
    "    ][\"body\"].unique()\n",
    "    date_of_info = news_reader.repartition[\n",
    "        (news_reader.repartition[\"h1\"]==\"Az aktív fertőzöttek megyei eloszlása\")\n",
    "        & (news_reader.repartition[\"date\"].dt.day == int(day))\n",
    "    ][\"date\"].unique()\n",
    "    print(date_of_info)\n",
    "    if len(repartition)>0:\n",
    "        table = \"Aktív fertőzöttek száma{}\".format(repartition[0].split(\"Aktív fertőzöttek száma\")[1]).split(\"\\n\\n\\n\\n\\n\")\n",
    "        df = pd.DataFrame(table, columns=[\"full\"])\n",
    "        df[\"full\"] = df[\"full\"].str.split(\"\\n\\n\\n\")\n",
    "        df[\"len\"] = df[\"full\"].apply(lambda cell: len(cell))\n",
    "        df = df[df[\"len\"]==3].copy()\n",
    "        df['region'], df['active'], df['death'] = zip(*df[\"full\"])\n",
    "        df['date'] = \"{}-{}\".format(date, day)\n",
    "        df[['date', 'region', 'active', 'death']].to_json('repartition/{}-{}.json'.format(date, day), orient='records')\n",
    "        return df[['date', 'region', 'active', 'death']]"
   ]
  },
  {
   "cell_type": "code",
   "execution_count": 10,
   "metadata": {
    "scrolled": false
   },
   "outputs": [
    {
     "name": "stdout",
     "output_type": "stream",
     "text": [
      "INFO:root:2020-11-28 08:58:00\n",
      "INFO:root:https://koronavirus.gov.hu/cikkek/6268-fovel-emelkedett-beazonositott-fertozottek-szama-es-elhunyt-152-beteg\n",
      "INFO:root:\n",
      "6268 újabb magyar állampolgárnál mutatták ki az új koronavírus-fertőzést (COVID-19), ezzel 204 708 főre nőtt a hazánkban beazonosított fertőzöttek száma. Elhunyt 152 többségében idős, krónikus beteg, így az elhunytak száma 4 516 főre emelkedett. A gyógyultak száma 54 021 főre emelkedett, az aktív fertőzöttek száma 146 171 fő. Az aktív fertőzöttek 20%-a, az elhunytak 24%-a, a gyógyultak 26%-a budapesti. 7536 koronavírusos beteget \u001b[4mápolnak\u001b[0m kórházban, közülük 644-en vannak \u001b[4mlélegeztetőgépen\u001b[0m. A beazonosított fertőzöttek számában megjelennek a mentők által, a szűrőbuszokon, és a kórházi dolgozók körében gyorsteszteléssel kiszűrtek is. A bölcsődei, óvodai, iskolai és szociális dolgozók körében végzett célzott csoportos tesztelés összesített eredménye jövő hét elején várható.\n",
      "\n",
      "Egész Európában, a szomszédos országokban és Magyarországon is tovább nő a fertőzöttek száma, egyre többen igényelnek kórházi ellátást. A járványt megállítani nem lehet, a cél a járvány lassítása és a kórházak teljesítőképességének védelme. Ezt szolgálják a veszélyhelyzettel kihirdetett védelmi intézkedések.\n",
      "Este 8 óra és reggel 5 óra között továbbra is kijárási tilalom van érvényben, mindenkinek haza kell érnie este 8 óráig. A rendőrség a kijárási tilalom megszegése miatt eddig összesen 7212 esetben intézkedett. A kijárási tilalom alóli mentesülés egyik esete a munkavégzés, amelyet azonban igazolni szükséges. Igazolásminta: https://koronavirus.gov.hu/cikkek/kijarasi-tilalom-alatti-munkavegzesrol-szolo-igazolas-letoltheto-igazolas-minta\n",
      "Az élelmiszerüzletekben, patikákban, drogériákban hétköznapokon 9 és 11 óra, hétvégén 8 és 10 óra között működik az idősek védett vásárlási idősávja, amikor csak a 65 év felettiek léphetnek az üzletekbe.  Emellett azonban fontos tudni, hogy az idősek a védett vásárlási idősávon kívüli, más időpontban is vásárolhatnak.\n",
      "Az üzletek - a gyógyszertárak és a benzinkutak kivételével - este 7 óráig maradhatnak nyitva és utána a kijárási tilalom lejártával, tehát leghamarabb reggel 5 órakor nyithatnak ki. A rendeletben nem említett szolgáltatók és szolgáltatások (például fodrász, masszőr, személyi edző) a szokott rendben működhetnek a kijárási tilalom szabályai mellett.\n",
      "A maszkviseléssel és távolságtartással kapcsolatosan eddig bevezetett szabályok továbbra is érvényesek, azzal, hogy a 10 000 főnél nagyobb település egyes közterületein a maszkviselés kötelező. A területek kijelölése a polgármester feladata. Sporttevékenység során, valamint a parkokban, illetve zöldterületeken a maszk viselése továbbra sem kötelező.\n",
      "Minden gyülekezés tilos. Az éttermek vendéget nem fogadhatnak, vendégnek ott csak az étel elvitele céljából lehet tartózkodni. A szállodák turistákat nem fogadhatnak, csak üzleti, gazdasági vagy oktatási célból érkezett vendégeket. Mindennemű rendezvény megtartása tilos, ide értve a kulturális eseményeket valamint a karácsonyi vásárokat. A sportmérkőzéseket zárt kapuk mögött kell megtartani. A szabadidős létesítmények használata tilos, beleértve különösen a fitnesztermeket, fedett uszodákat, múzeumokat, könyvtárakat, mozikat és állatkerteket, korcsolyapályákat.\n",
      "A bölcsődék, az óvodák és az általános iskolák a 8. osztályig a megszokott rend szerint nyitva tartanak, a speciális intézményi védelmi intézkedéseket az igazgató határozza meg. A középiskolák és egyetemek digitális munkarendre tértek át.  A helyhez kötött internet-hozzáférési szolgáltatás harminc napra ingyenesen vehető igénybe a digitális oktatásban résztvevő diákok és pedagógusok  számára a köznevelésben és a szakképzésben.\n",
      "Magán és családi rendezvények (például: születésnap) 10 főig megtarthatóak. Temetés legfeljebb 50 fővel tartható meg. Esküvők lakodalom nélkül tarthatóak meg, azonban az eseményen csak meghatározott személyek vehetnek részt.\n",
      "A közterületi parkolás ingyenes. A kereskedelmi célú P+R, parkolóház, parkológarázs, zárt felszíni parkoló és nem zárt felszíni parkoló díjfizetés nélkül vehető igénybe az este 7-től reggel 7 óráig. A létesítmény üzemeltetője köteles ebben az idősávban az ingyenes parkolást lehetővé tenni.\n",
      "A rendőrség szigorúan ellenőrzi a szabályok betartását, pénzbírságot szabhat ki, és azokat a helyeket, ahol nem tartják be az előírásokat, bezárja. A katonák az ország több városában támogatják a rendőrök munkáját és 93 kórházban tehermentesítik az egészségügyi dolgozókat .\n",
      "Magyarországon mindenkinek jut kórházi ágy, ellátás, lélegeztetőgép, és a védelmi intézkedésekkel az a cél, hogy ez így is maradjon.  Annak érdekében, hogy a növekvő betegszámmal a koronavírusos betegek kórházi ellátása továbbra is biztosított legyen a halasztható műtéteket felfüggesztették, bővült az ellátásba bevont kórházak és koronavírusos betegek számára fenntartott kórházi ágyak száma.\n",
      "Elindult az egészségügyi, a szociális, a bölcsődei, az óvodai dolgozók és a pedagógusok gyorstesztelése, amelyben az orvosi, egészségügyi képzésekben részt vevő egyetemi hallgatók is részt vesznek 2 hetes fizetett gyakorlat keretében.\n",
      "A kormány mindent lehetséges külföldi vakcináról tárgyal, eddig 12 millió adag oltóanyagot kötött le három gyártónál.\n",
      "A közösségi terjedés megfékezése érdekében továbbra is kerüljük azokat a helyeket, ahol zárt térben sokan vannak, lehetőleg tartsuk a szociális távolságot, gyakran és alaposan mossunk kezet. Akinél külföldi tartózkodás vagy egyéb ok miatt hatósági házi karantént rendeltek el, az szigorúan tartsa be. Bárki, akinek tünetei vannak, az ne menjen közösségbe, hanem maradjon otthon és telefonon értesítse háziorvosát.\n",
      "Az egészségügyi védekezés részeként már zajlik az ingyenes influenza elleni oltások beadása. Folyamatos a háziorvosi praxisok ellátása az influenza elleni védőoltással.\n",
      "Kiemelten fontos az idősek és krónikus betegek védelme. Az időseket is kérjük, hogy fokozottan figyeljenek magukra és az általános óvintézkedések betartására. A kórházakban és az idősotthonokban látogatási tilalom van érvényben. Az idősotthonok fenntartóinak pedig mindent meg kell tenni a fertőzések elkerüléséért. Ha egy szociális intézményben vagy bárhol más közösségben gócpont alakul ki, akkor a járványügyi bevetési egység megteszi a szükséges intézkedéseket.\n",
      "A kormány az egészségügyi védekezés fenntartása mellett, további gazdaságvédelmi és családvédelmi intézkedéseken is dolgozik.\n",
      "\n",
      "\n",
      "[]\n"
     ]
    }
   ],
   "source": [
    "createJson(\"2020-11\", \"28\", True)"
   ]
  },
  {
   "cell_type": "code",
   "execution_count": null,
   "metadata": {},
   "outputs": [],
   "source": []
  }
 ],
 "metadata": {
  "kernelspec": {
   "display_name": "Python 3",
   "language": "python",
   "name": "python3"
  },
  "language_info": {
   "codemirror_mode": {
    "name": "ipython",
    "version": 3
   },
   "file_extension": ".py",
   "mimetype": "text/x-python",
   "name": "python",
   "nbconvert_exporter": "python",
   "pygments_lexer": "ipython3",
   "version": "3.7.6"
  }
 },
 "nbformat": 4,
 "nbformat_minor": 2
}
