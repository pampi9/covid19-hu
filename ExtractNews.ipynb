{
 "cells": [
  {
   "cell_type": "code",
   "execution_count": 5,
   "metadata": {},
   "outputs": [],
   "source": [
    "import os\n",
    "import sys\n",
    "base_dir = os.path.join(\"/home/jovyan/work/Corona/COVID-19\")\n",
    "sys.path.append(base_dir)\n",
    "import model as md\n",
    "import pandas as pd"
   ]
  },
  {
   "cell_type": "code",
   "execution_count": 6,
   "metadata": {},
   "outputs": [],
   "source": [
    "#NewsExtractor(2)\n",
    "def createJson(date, day, json=False):\n",
    "    news_reader = md.NewsReader(data_dir=\"data\", month=date, date=\"{}-{}\".format(date, day), string_filter=True)\n",
    "    repartition = news_reader.repartition[\n",
    "        (news_reader.repartition[\"h1\"]==\"Az aktív fertőzöttek megyei eloszlása\")\n",
    "        & (news_reader.repartition[\"date\"].dt.day == int(day))\n",
    "    ][\"body\"].unique()\n",
    "    date_of_info = news_reader.repartition[\n",
    "        (news_reader.repartition[\"h1\"]==\"Az aktív fertőzöttek megyei eloszlása\")\n",
    "        & (news_reader.repartition[\"date\"].dt.day == int(day))\n",
    "    ][\"date\"].unique()\n",
    "    print(date_of_info)\n",
    "    if len(repartition)>0:\n",
    "        table = \"Aktív fertőzöttek száma{}\".format(repartition[0].split(\"Aktív fertőzöttek száma\")[1]).split(\"\\n\\n\\n\\n\\n\")\n",
    "        df = pd.DataFrame(table, columns=[\"full\"])\n",
    "        df[\"full\"] = df[\"full\"].str.split(\"\\n\\n\\n\")\n",
    "        df[\"len\"] = df[\"full\"].apply(lambda cell: len(cell))\n",
    "        df = df[df[\"len\"]==3].copy()\n",
    "        df['region'], df['active'], df['death'] = zip(*df[\"full\"])\n",
    "        df['date'] = \"{}-{}\".format(date, day)\n",
    "        df[['date', 'region', 'active', 'death']].to_json('repartition/{}-{}.json'.format(date, day), orient='records')\n",
    "        return df[['date', 'region', 'active', 'death']]"
   ]
  },
  {
   "cell_type": "code",
   "execution_count": 23,
   "metadata": {
    "scrolled": false
   },
   "outputs": [
    {
     "name": "stdout",
     "output_type": "stream",
     "text": [
      "INFO:root:2021-02-21 09:17:00\n",
      "INFO:root:https://koronavirus.gov.hu/cikkek/2912-fovel-emelkedett-beazonositott-fertozottek-szama-es-elhunyt-47-beteg\n",
      "INFO:root:\n",
      "2912 újabb magyar állampolgárnál mutatták ki az új koronavírus-fertőzést (COVID-19), ezzel 403 023 főre nőtt a hazánkban beazonosított fertőzöttek száma. Elhunyt 47 többségében idős, krónikus beteg, így az elhunytak száma 14 299 főre emelkedett. A gyógyultak száma folyamatosan nő, jelenleg 306 621 fő, az aktív fertőzöttek száma 82 103 fő. 4233 koronavírusos beteget \u001b[4mápolnak\u001b[0m kórházban, közülük 366-an vannak \u001b[4mlélegeztetőgépen\u001b[0m. Eddig 445 535 fő kapott oltást, közülük 190 705 fő már a második oltását is megkapta. Jelenleg is zajlik a regisztrált legidősebbek oltása a kórházi oltópontokon (Pfizer- és Szputnyik vakcinával), a háziorvosok pedig a 60 év alatti krónikus betegek oltását végzik (AstraZeneca-vakcinával).  Zöld utat kapott a hatóságoktól a kínai Sinopharm-vakcina is, így jövő héten azzal is kezdődhet az oltás. Elindult az újraindításról szóló online nemzeti konzultáció is.\n",
      "\n",
      "Az elmúlt napokban Európa számos országához hasonlóan hazánkban is nőtt az új fertőzöttek, a kórházi betegek száma, ez arra figyelmeztet, hogy a harmadik hullám jelei mutatkoznak itt is. A brit vírusmutáns egész Európában gyorsan terjed, több embert fertőz és növeli a betegek számát.  A védelmi intézkedések betartása továbbra is fontos. A kormány álláspontja, hogy csak  fokozatosan és felelősen lehet feloldani a korlátozásokat, és ehhez az emberek véleményét is kikéri. Az erről szóló online nemzeti konzultáció elindult: https://nemzetikonzultacio.kormany.hu/\n",
      "A kormány előterjesztésére az Országgyűlés kedden kezdte tárgyalni a koronavírus-járvány miatt elrendelt veszélyhelyzet meghosszabbítását, amelynek célja a magyar emberek életének és egészségének megvédése, valamint a gazdasági károk mérséklése és a munkahelyek megőrzése.\n",
      "Mivel a brüsszeli beszerzésből kevés vakcina érkezik és lassan, Magyarország mindent megtesz, hogy legyen elég vakcina a tömeges oltás megkezdéséhez.  A nyugati vakcinákon túl 2,5 millió ember oltásához elég kínai Sinopharm oltóanyag fog érkezni a következő 4 hónapban. Az első kínai-vakcina szállítmány kedden megérkezett Magyarországra: 550 ezer adag vakcina érkezett, amely 275 ezer ember oltását teszi majd lehetővé.  Oroszországból 1 millió ember oltására elég Szputnyik-vakcinát várunk 3 hónap alatt. Az első, 20 ezer oltására elég szállítmány február elején meg is érkezett, amelyet jelenleg a regisztrált 60 év felettiek oltására használnak a megyei kórházak oltópontjain.\n",
      "A nyugati vakcinákból eddig 19,7 millió adagot kötöttünk le több tízmilliárd forint értékben különböző gyártóknál (Pfizer-BioNTech, Moderna, AstraZeneca, Janssen, Curevac), ezekből eddig csak a Pfizer, a Moderna és az AstraZeneca rendelkezik uniós engedéllyel és kezdte meg a szállítást Magyarországra.\n",
      "A Magyarországra eddig érkezett vakcinákról: https://koronavirus.gov.hu/cikkek/magyarorszagra-erkezett-vakcinak-tipusa-es-mennyisege\n",
      "\n",
      "\n",
      "\n",
      "\n",
      "\n",
      "\n",
      "\n",
      "Magyarországra érkezett vakcinák típusa és mennyisége\n",
      "koronavirus.gov.hu\n",
      "Magyarország már 5 vakcinával rendelkezik. A mai napig összesen 737 ezer ember oltására elég oltóanyag érkett az országba, a Pfizertől 335 ezer fő, a Sinopharmtól 275 ezer fő, az AstraZenecától 84 ezer fő, a Szputnyiktól 23 ezer fő, a Modernától 20 ezer fő oltására elég vakcina. Ezek közül jelenleg négy oltóanyaggal oltanak már, a kínai vakcinával jövő héten kezdődhet meg az\n",
      "\n",
      "\n",
      "\n",
      "\n",
      "\n",
      "Magyarországon eddig is és ezt követően is csak olyan vakcinák kerülhettek és kerülhetnek forgalomba, amelyek a magyar hatóságok vizsgálata alapján is hatásosak és biztonságosak, és már több országban is alkalmaznak.\n",
      "Az oltási rendben az egészségügyi dolgozók az elsők, az ő kampányszerű oltásuk lezárult, de a második körös oltások folytatódnak és természetesen azokat az egészségügyben dolgozókat is még beoltják, akik most jelentkeznek oltásért a kórházi oltópontokon.\n",
      "Második körben az idősotthonok és a bentlakásos szociális intézmények oltását végezték el. Azok az idősek vagy szociális dolgozók, akik eddig nem éltek az oltás lehetőségével, de meggondolják magukat az intézmény vezetésénél jelezhetik e szándékukat. Azokba az intézményekbe, ahol a járványügyi helyzet eddig nem tette lehetővé az oltást, az oltócsapatok visszatérnek.\n",
      "Harmadik körben, február első hetén elkezdődött a védőoltásra regisztrált legidősebbek oltása kórházi oltópontok és a háziorvosoknál.  Ezen a héten a regisztrált legidősebbeket a kórházi oltópontokon oltják, ahová a háziorvosok szervezik meg az oltandókat. Közel 23 ezer főt Pfizer-vakcinával tudnak oltani ezekben a napokban és 20 ezer főt Szputnyik-vakcinával. Az orosz vakcinát azoknak a 60 év felettieknek adják jelenleg, akik bizonyos kockázati krónikus betegséggel nem rendelkeznek.  \n",
      "Negyedik körben, múlt héten megkezdődött és ezen a héten is folytatódik a 60 év alatti krónikus betegek oltása is. Erre az AstraZeneca-vakcinát használják, amelyet a jelenlegi előírások szerint csak 60 év alatt lehet oltani. Most 22 800 krónikus beteg oltására van lehetőség.  2280 háziorvos kapott 1-1 db ampulla vakcinát, amelyből ezen a héten is 10 krónikus beteget tudnak beoltani. A háziorvosok az AstraZeneca oltásakor erős orvosi szabadságot kapnak, hogy mely krónikus beteg páciensük oltását látják sürgetőbbnek kortól függetlenül.\n",
      "A mostani oltási szakaszban a háziorvosok értesítik az oltandókat az oltás pontos helyéről és időpontjáról. Kérjük, hogy az előre egyeztetett időpontra  pontosan érkezzenek az oltásra, hogy a csoportosulást, a tumultust  elkerüljék a rendelőkben és a kórházi oltóponton! A háziorvosok a praxisukhoz tartozó védőoltásra regisztráltak listáját heti frissítéssel megkapják. Mindenki sorra fog kerülni, aki online vagy postán regisztrált. \n",
      "Tájékoztatónk bővebben: Mit kell tudni a regisztrált legidősebbek és a 60 év alatti krónikus betegek oltásáról? https://koronavirus.gov.hu/cikkek/mit-kell-tudni-regisztralt-legidosebbek-es-60-ev-alatti-kronikus-betegek-oltasarol\n",
      "\n",
      "\n",
      "\n",
      "\n",
      "\n",
      "\n",
      "\n",
      "Mit kell tudni a regisztrált legidősebbek és a 60 év alatti krónikus betegek oltásáról?\n",
      "koronavirus.gov.hu\n",
      "Február első hetén elkezdődött a regisztrált legidősebbek oltása, ezzel párhuzamosan február második hetében megkezdődött a 60 év alatti krónikus betegek oltása is. Az oltandókat a háziorvosuk értesíti és egyeztet velük az oltás pontos időpontjáról és helyszínéről, amely lehet a kórházi oltópont, a háziorvosi rendelő, vagy az idős ember otthona is. Az oltások ütemét a\n",
      "\n",
      "\n",
      "\n",
      "\n",
      "\n",
      "A védőoltás ingyenes és önkéntes, így mindenképpen érdemes rá regisztrálni. A védőoltásra már több mint 2 millióan regisztráltak a www.vakcinainfo.gov.hu honlapon.\n",
      "\n",
      "\n",
      "\n",
      "\n",
      "\n",
      "\n",
      "\n",
      "Vakcinainfó\n",
      "www.vakcinainfo.gov.hu\n",
      "Vakcinainfó\n",
      "\n",
      "\n",
      "\n",
      "\n",
      "Az oltási munkacsoport   folyamatosan dolgozik, követi az oltások menetét, a várható vakcinaszállítmányokat, és felkészült a tömeges oltásokra is, ha jön elég vakcina.  Minden célcsoport időben értesülni fog a rávonatkozó tudnivalókról.  Attól függően, hogy mennyi vakcina áll rendelkezésre, ütemes és tömeges oltás is lehetséges. Oltópontonként számolunk a kórházi oltópontokkal, a járóbeteg-szakrendelőkkel, a háziorvosi rendelőkkel, és szükség esetén akár a szavazóhelyeket is be lehet vonni. \n",
      "Este 8 óra és reggel 5 óra között továbbra is kijárási tilalom van érvényben. A kijárási tilalom alóli mentesülés egyik esete a munkavégzés, amelyet azonban igazolni szükséges. Igazolásminta: https://koronavirus.gov.hu/cikkek/kijarasi-tilalom-alatti-munkavegzesrol-szolo-igazolas-letoltheto-igazolas-minta\n",
      "\n",
      "\n",
      "\n",
      "\n",
      "\n",
      "\n",
      "\n",
      "Kijárási tilalom alatti munkavégzésről szóló igazolás - letölthető igazolás minta\n",
      "koronavirus.gov.hu\n",
      "A koronavírus elleni védekezés érdekében november 11-től kijárási tilalom lép életbe este 8 és reggel 5 óra között. Munkavégzés esetén lehetőség van az ez alóli mentességre, ezt azonban igazolni kell.\n",
      "\n",
      "\n",
      "\n",
      "\n",
      "A maszkviseléssel és távolságtartással kapcsolatosan eddig bevezetett szabályok továbbra is érvényesek, azzal, hogy a 10 000 főnél nagyobb település egyes közterületein a maszkviselés kötelező. A területek kijelölése a polgármester feladata. Sporttevékenység során, valamint a parkokban, illetve zöldterületeken a maszk viselése továbbra sem kötelező.\n",
      "Magán és családi rendezvények (például: születésnap) 10 főig megtarthatóak, amelybe a 14 év alattiak nem számítanak bele. \n",
      "Továbbra is kiemelten fontos az idősek és krónikus betegek védelme. Az időseket is kérjük, hogy fokozottan figyeljenek magukra és az általános óvintézkedések betartására. Felhívjuk a figyelmet, hogy a kórházakban és az idősotthonokban változatlanul látogatási tilalom van érvényben. \n",
      "Az egészségügyi dolgozók mellett a védekezésben résztvevő szociális dolgozók, a rendőrök, katonák és közszolgálati tisztviselők is díjmentesen használhatják a közösségi közlekedési eszközöket. Az ingyenes utazáshoz munkáltatói igazolás szükséges arról, hogy a személy a veszélyhelyzettel összefüggő vagy a  koronavírus-világjárvány következményeinek elhárítása érdekében szükséges feladatokat lát el. \n",
      "Az üzletek - a gyógyszertárak és a benzinkutak kivételével - este 7 óráig maradhatnak nyitva és utána a kijárási tilalom lejártával, tehát leghamarabb reggel 5 órakor nyithatnak ki. A rendeletben nem említett szolgáltatók és szolgáltatások (például fodrász, masszőr, személyi edző) a szokott rendben működhetnek a kijárási tilalom szabályai mellett.\n",
      "Minden gyülekezés tilos. Az éttermek vendéget nem fogadhatnak, vendégnek ott csak az étel elvitele céljából lehet tartózkodni. A szállodák turistákat nem fogadhatnak, csak üzleti, gazdasági vagy oktatási célból érkezett vendégeket. Mindennemű rendezvény megtartása tilos, ide értve a kulturális eseményeket. A sportmérkőzéseket zárt kapuk mögött kell megtartani. A szabadidős létesítmények használata tilos, beleértve különösen a fitnesztermeket, fedett uszodákat, múzeumokat, könyvtárakat, mozikat és állatkerteket, korcsolyapályákat.\n",
      "\n",
      "Temetés legfeljebb 50 fővel tartható meg. Esküvők lakodalom nélkül tarthatóak meg, azonban az eseményen csak meghatározott személyek vehetnek részt.\n",
      "A közterületi parkolás ingyenes. A kereskedelmi célú P+R, parkolóház, parkológarázs, zárt felszíni parkoló és nem zárt felszíni parkoló díjfizetés nélkül vehető igénybe az este 7-től reggel 7 óráig. A létesítmény üzemeltetője köteles ebben az idősávban az ingyenes parkolást lehetővé tenni.\n",
      "A rendőrség szigorúan ellenőrzi a szabályok betartását, pénzbírságot szabhat ki, és azokat a helyeket, ahol nem tartják be az előírásokat, bezárja. A katonák az ország több városában támogatják a rendőrök munkáját és a kórházban tehermentesítik az egészségügyi dolgozókat.\n",
      "A közösségi terjedés megfékezése érdekében továbbra is kerüljük azokat a helyeket, ahol zárt térben sokan vannak, lehetőleg tartsuk a szociális távolságot, gyakran és alaposan mossunk kezet. Akinél külföldi tartózkodás vagy egyéb ok miatt hatósági házi karantént rendeltek el, az szigorúan tartsa be. Bárki, akinek tünetei vannak, az ne menjen közösségbe, hanem maradjon otthon és telefonon értesítse háziorvosát.\n",
      "A kormány az egészségügyi védekezés fenntartása mellett további családvédelmi intézkedéseken dolgozik és elindította a gazdaság-újraindítási akciótervet.\n",
      "\n",
      "\n"
     ]
    },
    {
     "name": "stdout",
     "output_type": "stream",
     "text": [
      "[]\n"
     ]
    }
   ],
   "source": [
    "createJson(\"2021-02\", \"21\", True)"
   ]
  },
  {
   "cell_type": "code",
   "execution_count": null,
   "metadata": {},
   "outputs": [],
   "source": []
  }
 ],
 "metadata": {
  "kernelspec": {
   "display_name": "Python 3",
   "language": "python",
   "name": "python3"
  },
  "language_info": {
   "codemirror_mode": {
    "name": "ipython",
    "version": 3
   },
   "file_extension": ".py",
   "mimetype": "text/x-python",
   "name": "python",
   "nbconvert_exporter": "python",
   "pygments_lexer": "ipython3",
   "version": "3.7.6"
  }
 },
 "nbformat": 4,
 "nbformat_minor": 2
}
