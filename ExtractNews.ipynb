{
 "cells": [
  {
   "cell_type": "code",
   "execution_count": 1,
   "metadata": {},
   "outputs": [],
   "source": [
    "import os\n",
    "import sys\n",
    "base_dir = os.path.join(\"/home/jovyan/work/Corona/COVID-19\")\n",
    "sys.path.append(base_dir)\n",
    "import model as md\n",
    "import pandas as pd"
   ]
  },
  {
   "cell_type": "code",
   "execution_count": 2,
   "metadata": {},
   "outputs": [],
   "source": [
    "#NewsExtractor(2)\n",
    "def createJson(date, day, json=False):\n",
    "    news_reader = md.NewsReader(data_dir=\"data\", month=date, date=\"{}-{}\".format(date, day), string_filter=True)\n",
    "    repartition = news_reader.repartition[\n",
    "        (news_reader.repartition[\"h1\"]==\"Az aktív fertőzöttek megyei eloszlása\")\n",
    "        & (news_reader.repartition[\"date\"].dt.day == int(day))\n",
    "    ][\"body\"].unique()\n",
    "    date_of_info = news_reader.repartition[\n",
    "        (news_reader.repartition[\"h1\"]==\"Az aktív fertőzöttek megyei eloszlása\")\n",
    "        & (news_reader.repartition[\"date\"].dt.day == int(day))\n",
    "    ][\"date\"].unique()\n",
    "    print(date_of_info)\n",
    "    if len(repartition)>0:\n",
    "        table = \"Aktív fertőzöttek száma{}\".format(repartition[0].split(\"Aktív fertőzöttek száma\")[1]).split(\"\\n\\n\\n\\n\\n\")\n",
    "        df = pd.DataFrame(table, columns=[\"full\"])\n",
    "        df[\"full\"] = df[\"full\"].str.split(\"\\n\\n\\n\")\n",
    "        df[\"len\"] = df[\"full\"].apply(lambda cell: len(cell))\n",
    "        df = df[df[\"len\"]==3].copy()\n",
    "        df['region'], df['active'], df['death'] = zip(*df[\"full\"])\n",
    "        df['date'] = \"{}-{}\".format(date, day)\n",
    "        df[['date', 'region', 'active', 'death']].to_json('repartition/{}-{}.json'.format(date, day), orient='records')\n",
    "        return df[['date', 'region', 'active', 'death']]"
   ]
  },
  {
   "cell_type": "code",
   "execution_count": 12,
   "metadata": {
    "scrolled": false
   },
   "outputs": [
    {
     "name": "stdout",
     "output_type": "stream",
     "text": [
      "INFO:root:2021-01-14 08:37:00\n",
      "INFO:root:https://koronavirus.gov.hu/cikkek/1-926-fovel-emelkedett-beazonositott-fertozottek-szama-es-elhunyt-118-beteg\n",
      "INFO:root:\n",
      "1 926 újabb magyar állampolgárnál mutatták ki az új koronavírus-fertőzést (COVID-19), ezzel 347 636 főre nőtt a hazánkban beazonosított fertőzöttek száma. Elhunyt 118 többségében idős, krónikus beteg, így az elhunytak száma 11 066 főre emelkedett. A gyógyultak száma is folyamatosan nő, jelenleg 220 304 fő, az aktív fertőzöttek száma 116 266 főre csökkent.  4 689 koronavírusos beteget \u001b[4mápolnak\u001b[0m kórházban, közülük 344-en vannak \u001b[4mlélegeztetőgépen\u001b[0m.  Szerda estig összesen már 96 101 fő kapott oltást, többségében egészségügyi dolgozók, valamint  idősotthonban lakók és dolgozók.  Kedden újabb vakcinaszállítmányok érkeztek, amelyek összesen közel  51 ezer ember oltását teszik lehetővé, így folytatódik az egészségügyi dolgozók, valamint az idősotthonok lakóinak és dolgozóinak oltása.  Az oltás ütemét, gyorsaságát a vakcinák érkezése határozza meg. A járvány lassítása és a kórházak teljesítőképessége érdekében továbbra is érvényben vannak az eddigi védelmi intézkedések és február 1-ig érvényben is maradnak.\n",
      "\n",
      "A koronavírus-járvány elleni védekezés új szakaszához érkezett azzal, hogy megérkezett a vakcina Magyarországra és december 26-tól zajlik az egészségügyi dolgozók oltása.  A Pfizer-vakcinából kedden a negyedik szállítmány, összesen 81 tálca oltóanyag  érkezett,  amely újabb 47 385 személy oltását teszi lehetővé. Továbbá megérkezett az első Moderna-vakcina szállítmány is, ebből 7200 adag érkezett, amely 3600 ember oltását teszi lehetővé.\n",
      "A vakcinákat 25 kórházi oltópontra szállítják ki: több budapesti kórház mellett Győrbe, Kecskemétre, Szolnokra, Tatabányára, Kaposvárra, Pécsre, Miskolcra, Szegedre, Székesfehérvárra, Debrecenbe, Balassagyarmatra, Szombathelyre, Veszprémbe, Nyíregyházára, Egerre, Békéscsabára, Szekszárdra, és Zalaegerszegre.\n",
      "Az egészségügyi dolgozók jelentkezhetnek az oltópontokon időpontért. Kórházi oltópontok elérhetősége: https://koronavirus.gov.hu/cikkek/korhazi-oltopontok-elerhetosege-egeszsegugyi-dolgozok-szamara\n",
      "\n",
      "Folytatódik a nagyobb létszámú idősotthonok lakóinak és dolgozóinak az oltása is, oda oltócsapatok érkeznek. Az elmúlt napokban közel 7 ezer idősotthonban lakót és dolgozót oltottak már be.\n",
      "A következő hetekben újabb vakcina-szállítmányok érkeznek, és annak ütemében folytatódhat az oltás mind az egészségügyben, mind az idősotthonokban, majd az oltási tervben megjelölt további célcsoportok körében is, majd megkezdődhet a lakosság tömeges oltása.  A védőoltás ingyenes és önkéntes lesz, így mindenképpen érdemes rá regisztrálni. A védőoltásra  már több mint egymillióan regisztráltak a www.vakcinainfo.gov.hu\n",
      " honlapon és postai úton.\n",
      "Kiemelten fontos az idősek és krónikus betegek védelme. Az időseket is kérjük, hogy fokozottan figyeljenek magukra és az általános óvintézkedések betartására. \n",
      "\n",
      "Felhívjuk a figyelmet, hogy a kórházakban és az idősotthonokban változatlanul látogatási tilalom van érvényben. Magán és családi rendezvények (például: születésnap) 10 főig megtarthatóak, amelybe a 14 év alattiak nem számítanak bele. Este 8 óra és reggel 5 óra között is kijárási tilalom van érvényben. A kijárási tilalom alóli mentesülés egyik esete a munkavégzés, amelyet azonban igazolni szükséges. Igazolásminta: https://koronavirus.gov.hu/cikkek/kijarasi-tilalom-alatti-munkavegzesrol-szolo-igazolas-letoltheto-igazolas-minta\n",
      "Az egészségügyi dolgozók mellett a védekezésben résztvevő szociális dolgozók, a rendőrök, katonák és közszolgálati tisztviselők is díjmentesen használhatják a közösségi közlekedési eszközöket. Az ingyenes utazáshoz munkáltatói igazolás szükséges arról, hogy a személy a veszélyhelyzettel összefüggő vagy a  koronavírus-világjárvány következményeinek elhárítása érdekében szükséges feladatokat lát el. \n",
      "\n",
      "Az üzletek - a gyógyszertárak és a benzinkutak kivételével - este 7 óráig maradhatnak nyitva és utána a kijárási tilalom lejártával, tehát leghamarabb reggel 5 órakor nyithatnak ki. A rendeletben nem említett szolgáltatók és szolgáltatások (például fodrász, masszőr, személyi edző) a szokott rendben működhetnek a kijárási tilalom szabályai mellett.\n",
      "A maszkviseléssel és távolságtartással kapcsolatosan eddig bevezetett szabályok továbbra is érvényesek, azzal, hogy a 10 000 főnél nagyobb település egyes közterületein a maszkviselés kötelező. A területek kijelölése a polgármester feladata. Sporttevékenység során, valamint a parkokban, illetve zöldterületeken a maszk viselése továbbra sem kötelező.\n",
      "Minden gyülekezés tilos. Az éttermek vendéget nem fogadhatnak, vendégnek ott csak az étel elvitele céljából lehet tartózkodni. A szállodák turistákat nem fogadhatnak, csak üzleti, gazdasági vagy oktatási célból érkezett vendégeket. Mindennemű rendezvény megtartása tilos, ide értve a kulturális eseményeket valamint a karácsonyi vásárokat. A sportmérkőzéseket zárt kapuk mögött kell megtartani. A szabadidős létesítmények használata tilos, beleértve különösen a fitnesztermeket, fedett uszodákat, múzeumokat, könyvtárakat, mozikat és állatkerteket, korcsolyapályákat.\n",
      "\n",
      "Temetés legfeljebb 50 fővel tartható meg. Esküvők lakodalom nélkül tarthatóak meg, azonban az eseményen csak meghatározott személyek vehetnek részt.\n",
      "A közterületi parkolás ingyenes. A kereskedelmi célú P+R, parkolóház, parkológarázs, zárt felszíni parkoló és nem zárt felszíni parkoló díjfizetés nélkül vehető igénybe az este 7-től reggel 7 óráig. A létesítmény üzemeltetője köteles ebben az idősávban az ingyenes parkolást lehetővé tenni.\n",
      "A rendőrség szigorúan ellenőrzi a szabályok betartását, pénzbírságot szabhat ki, és azokat a helyeket, ahol nem tartják be az előírásokat, bezárja. A katonák az ország több városában támogatják a rendőrök munkáját és a kórházban tehermentesítik az egészségügyi dolgozókat.\n",
      "Magyarországon mindenkinek jut kórházi ágy, ellátás, lélegeztetőgép, és a védelmi intézkedésekkel az a cél, hogy ez így is maradjon.  Annak érdekében, hogy a növekvő betegszámmal a koronavírusos betegek kórházi ellátása továbbra is biztosított legyen, a halasztható műtéteket felfüggesztették, bővült az ellátásba bevont kórházak és koronavírusos betegek számára fenntartott kórházi ágyak száma.\n",
      "A közösségi terjedés megfékezése érdekében továbbra is kerüljük azokat a helyeket, ahol zárt térben sokan vannak, lehetőleg tartsuk a szociális távolságot, gyakran és alaposan mossunk kezet. Akinél külföldi tartózkodás vagy egyéb ok miatt hatósági házi karantént rendeltek el, az szigorúan tartsa be. Bárki, akinek tünetei vannak, az ne menjen közösségbe, hanem maradjon otthon és telefonon értesítse háziorvosát.\n",
      "Az egészségügyi védekezés részeként már zajlik az ingyenes influenza elleni oltások beadása. Folyamatos a háziorvosi praxisok ellátása az influenza elleni védőoltással.\n",
      "A kormány az egészségügyi védekezés fenntartása mellett, további gazdaságvédelmi és családvédelmi intézkedéseken is dolgozik.\n",
      " \n",
      "\n",
      "\n",
      "[]\n"
     ]
    }
   ],
   "source": [
    "createJson(\"2021-01\", \"14\", True)"
   ]
  },
  {
   "cell_type": "code",
   "execution_count": null,
   "metadata": {},
   "outputs": [],
   "source": []
  }
 ],
 "metadata": {
  "kernelspec": {
   "display_name": "Python 3",
   "language": "python",
   "name": "python3"
  },
  "language_info": {
   "codemirror_mode": {
    "name": "ipython",
    "version": 3
   },
   "file_extension": ".py",
   "mimetype": "text/x-python",
   "name": "python",
   "nbconvert_exporter": "python",
   "pygments_lexer": "ipython3",
   "version": "3.7.6"
  }
 },
 "nbformat": 4,
 "nbformat_minor": 2
}
