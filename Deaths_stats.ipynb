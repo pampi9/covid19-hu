{
 "cells": [
  {
   "cell_type": "code",
   "execution_count": 1,
   "metadata": {},
   "outputs": [],
   "source": [
    "import os\n",
    "import sys\n",
    "import pandas as pd\n",
    "import matplotlib.pyplot as plt\n",
    "base_dir = os.path.join(\"/home/jovyan/work/Corona/COVID-19\")\n",
    "sys.path.append(base_dir)\n",
    "import model as md"
   ]
  },
  {
   "cell_type": "code",
   "execution_count": 2,
   "metadata": {},
   "outputs": [
    {
     "name": "stderr",
     "output_type": "stream",
     "text": [
      "/opt/conda/lib/python3.7/site-packages/pyarrow/compat.py:25: FutureWarning: pyarrow.compat has been deprecated and will be removed in a future release\n",
      "  \"future release\", FutureWarning)\n"
     ]
    }
   ],
   "source": [
    "merger = md.Merger(data_dir=\"data\", load_from_raw=False, load_from_agg=True)\n",
    "# merger.merge_deaths_df()\n",
    "df = merger.load_deaths_df()"
   ]
  },
  {
   "cell_type": "code",
   "execution_count": null,
   "metadata": {},
   "outputs": [],
   "source": [
    "df[\"Kor_class\"] = df[\"Kor\"].apply(lambda cell: cell - (cell % 10), meta=('Kor', 'int64'))\n",
    "df[\"week\"] = df[\"date\"].dt.week + df[\"date\"].dt.year * 100\n",
    "df[\"day\"] = df[\"date\"].apply(\n",
    "    lambda cell: cell - pd.to_timedelta(cell.dayofweek, unit=\"D\"), meta=('date', 'datetime64[ns]')\n",
    ")\n",
    "df_group = df.groupby([\"day\", \"Kor_class\"]).agg({\"Nem\":\"count\"}).reset_index()\n",
    "pd_df_group = df_group.compute()"
   ]
  },
  {
   "cell_type": "code",
   "execution_count": null,
   "metadata": {
    "scrolled": false
   },
   "outputs": [],
   "source": [
    "plt.subplots(figsize=(20,10))\n",
    "plt.scatter(\n",
    "    x=pd_df_group[\"day\"], y=pd_df_group[\"Kor_class\"], \n",
    "    s=10+pd_df_group[\"Nem\"]**0.8, c=pd_df_group[\"Nem\"])\n",
    "plt.show()"
   ]
  },
  {
   "cell_type": "code",
   "execution_count": null,
   "metadata": {},
   "outputs": [],
   "source": []
  }
 ],
 "metadata": {
  "kernelspec": {
   "display_name": "Python 3",
   "language": "python",
   "name": "python3"
  },
  "language_info": {
   "codemirror_mode": {
    "name": "ipython",
    "version": 3
   },
   "file_extension": ".py",
   "mimetype": "text/x-python",
   "name": "python",
   "nbconvert_exporter": "python",
   "pygments_lexer": "ipython3",
   "version": "3.7.6"
  }
 },
 "nbformat": 4,
 "nbformat_minor": 2
}
