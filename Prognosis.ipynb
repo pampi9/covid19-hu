{
 "cells": [
  {
   "cell_type": "code",
   "execution_count": 1,
   "metadata": {},
   "outputs": [],
   "source": [
    "import pandas as pd\n",
    "import numpy as np\n",
    "import matplotlib.pyplot as plt\n",
    "import matplotlib.dates as dates\n",
    "import datetime\n",
    "from statsmodels.tsa.ar_model import AutoReg\n",
    "from statsmodels.tsa.arima_model import ARMA\n",
    "\n",
    "import os, sys\n",
    "base_dir = os.path.join(\"/home/jovyan/work/Corona/COVID-19\")\n",
    "sys.path.append(base_dir)\n",
    "import model as md"
   ]
  },
  {
   "cell_type": "code",
   "execution_count": 5,
   "metadata": {},
   "outputs": [],
   "source": [
    "# merger = md.Merger(data_dir=\"data\", load_from_raw=True, write_agg=True, load_from_agg=True)\n",
    "merger = md.Merger(data_dir=\"data\", load_from_raw=False, load_from_agg=True)"
   ]
  },
  {
   "cell_type": "code",
   "execution_count": 8,
   "metadata": {},
   "outputs": [
    {
     "data": {
      "text/html": [
       "<div>\n",
       "<style scoped>\n",
       "    .dataframe tbody tr th:only-of-type {\n",
       "        vertical-align: middle;\n",
       "    }\n",
       "\n",
       "    .dataframe tbody tr th {\n",
       "        vertical-align: top;\n",
       "    }\n",
       "\n",
       "    .dataframe thead th {\n",
       "        text-align: right;\n",
       "    }\n",
       "</style>\n",
       "<table border=\"1\" class=\"dataframe\">\n",
       "  <thead>\n",
       "    <tr style=\"text-align: right;\">\n",
       "      <th></th>\n",
       "      <th>date</th>\n",
       "      <th>baseUrl</th>\n",
       "      <th>source</th>\n",
       "      <th>additional.infected</th>\n",
       "      <th>cumulated.infected</th>\n",
       "      <th>additional.deaths</th>\n",
       "      <th>cumulated.recoveredFromHospital</th>\n",
       "      <th>cumulated.deaths</th>\n",
       "      <th>onVentilator</th>\n",
       "      <th>hospital</th>\n",
       "      <th>...</th>\n",
       "      <th>cumulated.details_deaths.Jász-Nagykun-Szolnok</th>\n",
       "      <th>cumulated.details_deaths.Komárom-Esztergom</th>\n",
       "      <th>cumulated.details_deaths.Nógrád</th>\n",
       "      <th>cumulated.details_deaths.Pest</th>\n",
       "      <th>cumulated.details_deaths.Somogy</th>\n",
       "      <th>cumulated.details_deaths.Szabolcs-Szatmár-Bereg</th>\n",
       "      <th>cumulated.details_deaths.Tolna</th>\n",
       "      <th>cumulated.details_deaths.Vas</th>\n",
       "      <th>cumulated.details_deaths.Veszprém</th>\n",
       "      <th>cumulated.details_deaths.Zala</th>\n",
       "    </tr>\n",
       "  </thead>\n",
       "  <tbody>\n",
       "    <tr>\n",
       "      <th>312</th>\n",
       "      <td>2021-01-12</td>\n",
       "      <td>https://koronavirus.gov.hu/cikkek/</td>\n",
       "      <td>696-fovel-emelkedett-beazonositott-fertozottek...</td>\n",
       "      <td>696.0</td>\n",
       "      <td>344352</td>\n",
       "      <td>128.0</td>\n",
       "      <td>209852.0</td>\n",
       "      <td>10853.0</td>\n",
       "      <td>356.0</td>\n",
       "      <td>5005.0</td>\n",
       "      <td>...</td>\n",
       "      <td>NaN</td>\n",
       "      <td>NaN</td>\n",
       "      <td>NaN</td>\n",
       "      <td>NaN</td>\n",
       "      <td>NaN</td>\n",
       "      <td>NaN</td>\n",
       "      <td>NaN</td>\n",
       "      <td>NaN</td>\n",
       "      <td>NaN</td>\n",
       "      <td>NaN</td>\n",
       "    </tr>\n",
       "    <tr>\n",
       "      <th>313</th>\n",
       "      <td>2021-01-13</td>\n",
       "      <td>https://koronavirus.gov.hu/cikkek/</td>\n",
       "      <td>1358-fovel-emelkedett-beazonositott-fertozotte...</td>\n",
       "      <td>1358.0</td>\n",
       "      <td>345710</td>\n",
       "      <td>95.0</td>\n",
       "      <td>215453.0</td>\n",
       "      <td>10948.0</td>\n",
       "      <td>339.0</td>\n",
       "      <td>4870.0</td>\n",
       "      <td>...</td>\n",
       "      <td>NaN</td>\n",
       "      <td>NaN</td>\n",
       "      <td>NaN</td>\n",
       "      <td>NaN</td>\n",
       "      <td>NaN</td>\n",
       "      <td>NaN</td>\n",
       "      <td>NaN</td>\n",
       "      <td>NaN</td>\n",
       "      <td>NaN</td>\n",
       "      <td>NaN</td>\n",
       "    </tr>\n",
       "  </tbody>\n",
       "</table>\n",
       "<p>2 rows × 55 columns</p>\n",
       "</div>"
      ],
      "text/plain": [
       "          date                             baseUrl  \\\n",
       "312 2021-01-12  https://koronavirus.gov.hu/cikkek/   \n",
       "313 2021-01-13  https://koronavirus.gov.hu/cikkek/   \n",
       "\n",
       "                                                source  additional.infected  \\\n",
       "312  696-fovel-emelkedett-beazonositott-fertozottek...                696.0   \n",
       "313  1358-fovel-emelkedett-beazonositott-fertozotte...               1358.0   \n",
       "\n",
       "     cumulated.infected  additional.deaths  cumulated.recoveredFromHospital  \\\n",
       "312              344352              128.0                         209852.0   \n",
       "313              345710               95.0                         215453.0   \n",
       "\n",
       "     cumulated.deaths  onVentilator  hospital  ...  \\\n",
       "312           10853.0         356.0    5005.0  ...   \n",
       "313           10948.0         339.0    4870.0  ...   \n",
       "\n",
       "     cumulated.details_deaths.Jász-Nagykun-Szolnok  \\\n",
       "312                                            NaN   \n",
       "313                                            NaN   \n",
       "\n",
       "     cumulated.details_deaths.Komárom-Esztergom  \\\n",
       "312                                         NaN   \n",
       "313                                         NaN   \n",
       "\n",
       "     cumulated.details_deaths.Nógrád  cumulated.details_deaths.Pest  \\\n",
       "312                              NaN                            NaN   \n",
       "313                              NaN                            NaN   \n",
       "\n",
       "    cumulated.details_deaths.Somogy  \\\n",
       "312                             NaN   \n",
       "313                             NaN   \n",
       "\n",
       "     cumulated.details_deaths.Szabolcs-Szatmár-Bereg  \\\n",
       "312                                              NaN   \n",
       "313                                              NaN   \n",
       "\n",
       "     cumulated.details_deaths.Tolna  cumulated.details_deaths.Vas  \\\n",
       "312                             NaN                           NaN   \n",
       "313                             NaN                           NaN   \n",
       "\n",
       "     cumulated.details_deaths.Veszprém  cumulated.details_deaths.Zala  \n",
       "312                                NaN                            NaN  \n",
       "313                                NaN                            NaN  \n",
       "\n",
       "[2 rows x 55 columns]"
      ]
     },
     "execution_count": 8,
     "metadata": {},
     "output_type": "execute_result"
    }
   ],
   "source": [
    "merger.df[\"details\"].tail(2)"
   ]
  },
  {
   "cell_type": "code",
   "execution_count": 9,
   "metadata": {},
   "outputs": [],
   "source": [
    "def add_prediction(data):\n",
    "        # contrived dataset\n",
    "        data_list = data.to_list()\n",
    "        data_log_list = np.log(data_list)\n",
    "        # fit model\n",
    "        model = AutoReg(data_log_list, lags=1)\n",
    "        model_fit = model.fit()\n",
    "        # make prediction\n",
    "        predict = model_fit.predict(0, len(data_list)+1)\n",
    "        return np.exp(predict)"
   ]
  },
  {
   "cell_type": "code",
   "execution_count": 10,
   "metadata": {},
   "outputs": [],
   "source": [
    "columns = [\"additional.infected\",\"additional.deaths\",\"hospital\",\"onVentilator\",\"active.infected\"]\n",
    "columns = [\"onVentilator\",\"hospital\"]\n",
    "selected_df = merger.df[\"details\"][[\"date\"] + columns]\n",
    "rolling_mean = selected_df[selected_df[\"date\"]>=\"2020-09-01\"].set_index([\"date\"]).rolling(7).mean().dropna()"
   ]
  },
  {
   "cell_type": "code",
   "execution_count": 11,
   "metadata": {},
   "outputs": [],
   "source": [
    "new_row = pd.DataFrame(\n",
    "    [[max(rolling_mean.reset_index()[\"date\"]) + datetime.timedelta(days=1)] + [None] * len(columns)], \n",
    "    columns=[\"date\"] + columns\n",
    ").set_index(\"date\")\n",
    "rolling_mean_pred = rolling_mean.append(new_row)\n",
    "rolling_mean_pred.tail(5)\n",
    "\n",
    "for key in columns:\n",
    "    rolling_mean_pred[\"pred_{}\".format(key)] = add_prediction(rolling_mean[key])\n",
    "    rolling_mean_pred[\"error_{}\".format(key)] = rolling_mean_pred[key]-rolling_mean_pred[\"pred_{}\".format(key)]"
   ]
  },
  {
   "cell_type": "code",
   "execution_count": 12,
   "metadata": {
    "scrolled": false
   },
   "outputs": [
    {
     "data": {
      "image/png": "[encoded data removed]",
      "text/plain": [
       "<Figure size 1440x720 with 2 Axes>"
      ]
     },
     "metadata": {
      "needs_background": "light"
     },
     "output_type": "display_data"
    },
    {
     "data": {
      "text/html": [
       "<div>\n",
       "<style scoped>\n",
       "    .dataframe tbody tr th:only-of-type {\n",
       "        vertical-align: middle;\n",
       "    }\n",
       "\n",
       "    .dataframe tbody tr th {\n",
       "        vertical-align: top;\n",
       "    }\n",
       "\n",
       "    .dataframe thead th {\n",
       "        text-align: right;\n",
       "    }\n",
       "</style>\n",
       "<table border=\"1\" class=\"dataframe\">\n",
       "  <thead>\n",
       "    <tr style=\"text-align: right;\">\n",
       "      <th></th>\n",
       "      <th>onVentilator</th>\n",
       "      <th>hospital</th>\n",
       "      <th>pred_onVentilator</th>\n",
       "      <th>error_onVentilator</th>\n",
       "      <th>pred_hospital</th>\n",
       "      <th>error_hospital</th>\n",
       "    </tr>\n",
       "    <tr>\n",
       "      <th>date</th>\n",
       "      <th></th>\n",
       "      <th></th>\n",
       "      <th></th>\n",
       "      <th></th>\n",
       "      <th></th>\n",
       "      <th></th>\n",
       "    </tr>\n",
       "  </thead>\n",
       "  <tbody>\n",
       "    <tr>\n",
       "      <th>2021-01-12</th>\n",
       "      <td>368.571429</td>\n",
       "      <td>5215.142857</td>\n",
       "      <td>374.131456</td>\n",
       "      <td>-5.560028</td>\n",
       "      <td>5281.932321</td>\n",
       "      <td>-66.789463</td>\n",
       "    </tr>\n",
       "    <tr>\n",
       "      <th>2021-01-13</th>\n",
       "      <td>360.428571</td>\n",
       "      <td>5104.285714</td>\n",
       "      <td>366.040197</td>\n",
       "      <td>-5.611625</td>\n",
       "      <td>5172.125447</td>\n",
       "      <td>-67.839733</td>\n",
       "    </tr>\n",
       "    <tr>\n",
       "      <th>2021-01-14</th>\n",
       "      <td>NaN</td>\n",
       "      <td>NaN</td>\n",
       "      <td>371.616676</td>\n",
       "      <td>NaN</td>\n",
       "      <td>5239.328683</td>\n",
       "      <td>NaN</td>\n",
       "    </tr>\n",
       "  </tbody>\n",
       "</table>\n",
       "</div>"
      ],
      "text/plain": [
       "            onVentilator     hospital  pred_onVentilator  error_onVentilator  \\\n",
       "date                                                                           \n",
       "2021-01-12    368.571429  5215.142857         374.131456           -5.560028   \n",
       "2021-01-13    360.428571  5104.285714         366.040197           -5.611625   \n",
       "2021-01-14           NaN          NaN         371.616676                 NaN   \n",
       "\n",
       "            pred_hospital  error_hospital  \n",
       "date                                       \n",
       "2021-01-12    5281.932321      -66.789463  \n",
       "2021-01-13    5172.125447      -67.839733  \n",
       "2021-01-14    5239.328683             NaN  "
      ]
     },
     "execution_count": 12,
     "metadata": {},
     "output_type": "execute_result"
    }
   ],
   "source": [
    "(fig, ax) = plt.subplots(figsize=(20,5*len(columns)), nrows=len(columns), sharex=True)\n",
    "for key in columns:\n",
    "    index = columns.index(key)\n",
    "    ax[index].set_xlim(\n",
    "        datetime.date.today() - datetime.timedelta(days=14),\n",
    "        datetime.date.today() + datetime.timedelta(days=1)\n",
    "    )\n",
    "    #ax[index].set_yscale(\"log\")\n",
    "    selected_df.plot(x=\"date\", y=key, ax=ax[index], label=\"{} - raw\".format(key))\n",
    "    rolling_mean.reset_index().plot(x=\"date\", y=key, ax=ax[index], label=\"{} - 7day mean\".format(key))\n",
    "    rolling_mean_pred.reset_index().plot(x=\"date\", y=\"pred_{}\".format(key), ax=ax[index], label=\"{} - pred\".format(key))\n",
    "plt.legend()\n",
    "plt.show()\n",
    "rolling_mean_pred.tail(3)"
   ]
  },
  {
   "cell_type": "code",
   "execution_count": 13,
   "metadata": {},
   "outputs": [
    {
     "data": {
      "text/html": [
       "<div>\n",
       "<style scoped>\n",
       "    .dataframe tbody tr th:only-of-type {\n",
       "        vertical-align: middle;\n",
       "    }\n",
       "\n",
       "    .dataframe tbody tr th {\n",
       "        vertical-align: top;\n",
       "    }\n",
       "\n",
       "    .dataframe thead th {\n",
       "        text-align: right;\n",
       "    }\n",
       "</style>\n",
       "<table border=\"1\" class=\"dataframe\">\n",
       "  <thead>\n",
       "    <tr style=\"text-align: right;\">\n",
       "      <th></th>\n",
       "      <th>onVentilator</th>\n",
       "      <th>hospital</th>\n",
       "      <th>pred_onVentilator</th>\n",
       "      <th>error_onVentilator</th>\n",
       "      <th>pred_hospital</th>\n",
       "      <th>error_hospital</th>\n",
       "    </tr>\n",
       "    <tr>\n",
       "      <th>date</th>\n",
       "      <th></th>\n",
       "      <th></th>\n",
       "      <th></th>\n",
       "      <th></th>\n",
       "      <th></th>\n",
       "      <th></th>\n",
       "    </tr>\n",
       "  </thead>\n",
       "  <tbody>\n",
       "    <tr>\n",
       "      <th>2021-01-10</th>\n",
       "      <td>378.714286</td>\n",
       "      <td>5409.000000</td>\n",
       "      <td>384.204719</td>\n",
       "      <td>-5.490433</td>\n",
       "      <td>5473.828814</td>\n",
       "      <td>-64.828814</td>\n",
       "    </tr>\n",
       "    <tr>\n",
       "      <th>2021-01-11</th>\n",
       "      <td>374.000000</td>\n",
       "      <td>5323.000000</td>\n",
       "      <td>379.523505</td>\n",
       "      <td>-5.523505</td>\n",
       "      <td>5388.717810</td>\n",
       "      <td>-65.717810</td>\n",
       "    </tr>\n",
       "    <tr>\n",
       "      <th>2021-01-12</th>\n",
       "      <td>368.571429</td>\n",
       "      <td>5215.142857</td>\n",
       "      <td>374.131456</td>\n",
       "      <td>-5.560028</td>\n",
       "      <td>5281.932321</td>\n",
       "      <td>-66.789463</td>\n",
       "    </tr>\n",
       "    <tr>\n",
       "      <th>2021-01-13</th>\n",
       "      <td>360.428571</td>\n",
       "      <td>5104.285714</td>\n",
       "      <td>366.040197</td>\n",
       "      <td>-5.611625</td>\n",
       "      <td>5172.125447</td>\n",
       "      <td>-67.839733</td>\n",
       "    </tr>\n",
       "    <tr>\n",
       "      <th>2021-01-14</th>\n",
       "      <td>NaN</td>\n",
       "      <td>NaN</td>\n",
       "      <td>371.616676</td>\n",
       "      <td>NaN</td>\n",
       "      <td>5239.328683</td>\n",
       "      <td>NaN</td>\n",
       "    </tr>\n",
       "  </tbody>\n",
       "</table>\n",
       "</div>"
      ],
      "text/plain": [
       "            onVentilator     hospital  pred_onVentilator  error_onVentilator  \\\n",
       "date                                                                           \n",
       "2021-01-10    378.714286  5409.000000         384.204719           -5.490433   \n",
       "2021-01-11    374.000000  5323.000000         379.523505           -5.523505   \n",
       "2021-01-12    368.571429  5215.142857         374.131456           -5.560028   \n",
       "2021-01-13    360.428571  5104.285714         366.040197           -5.611625   \n",
       "2021-01-14           NaN          NaN         371.616676                 NaN   \n",
       "\n",
       "            pred_hospital  error_hospital  \n",
       "date                                       \n",
       "2021-01-10    5473.828814      -64.828814  \n",
       "2021-01-11    5388.717810      -65.717810  \n",
       "2021-01-12    5281.932321      -66.789463  \n",
       "2021-01-13    5172.125447      -67.839733  \n",
       "2021-01-14    5239.328683             NaN  "
      ]
     },
     "execution_count": 13,
     "metadata": {},
     "output_type": "execute_result"
    }
   ],
   "source": [
    "rolling_mean_pred.tail(5)"
   ]
  },
  {
   "cell_type": "markdown",
   "metadata": {},
   "source": [
    "https://machinelearningmastery.com/time-series-forecasting-methods-in-python-cheat-sheet/"
   ]
  },
  {
   "cell_type": "markdown",
   "metadata": {},
   "source": [
    "# Autoregression (AR)"
   ]
  },
  {
   "cell_type": "code",
   "execution_count": 20,
   "metadata": {},
   "outputs": [
    {
     "name": "stdout",
     "output_type": "stream",
     "text": [
      "[100.95357141]\n"
     ]
    }
   ],
   "source": [
    "# AR example\n",
    "from statsmodels.tsa.ar_model import AutoReg\n",
    "from random import random\n",
    "# contrived dataset\n",
    "data = [x + random() for x in range(1, 100)]\n",
    "# fit model\n",
    "model = AutoReg(data, lags=1)\n",
    "model_fit = model.fit()\n",
    "# make prediction\n",
    "yhat = model_fit.predict(len(data), len(data))\n",
    "print(yhat)"
   ]
  },
  {
   "cell_type": "markdown",
   "metadata": {},
   "source": [
    "# Moving Average (MA)"
   ]
  },
  {
   "cell_type": "code",
   "execution_count": 18,
   "metadata": {},
   "outputs": [
    {
     "name": "stdout",
     "output_type": "stream",
     "text": [
      "[72.85861191]\n"
     ]
    }
   ],
   "source": [
    "# MA example\n",
    "from statsmodels.tsa.arima_model import ARMA\n",
    "from random import random\n",
    "# contrived dataset\n",
    "data = [x + random() for x in range(1, 100)]\n",
    "# fit model\n",
    "model = ARMA(data, order=(0, 1))\n",
    "model_fit = model.fit(disp=False)\n",
    "# make prediction\n",
    "yhat = model_fit.predict(len(data), len(data))\n",
    "print(yhat)"
   ]
  },
  {
   "cell_type": "markdown",
   "metadata": {},
   "source": [
    "# Autoregressive Moving Average (ARMA)"
   ]
  },
  {
   "cell_type": "code",
   "execution_count": 20,
   "metadata": {},
   "outputs": [
    {
     "name": "stdout",
     "output_type": "stream",
     "text": [
      "[0.51375467]\n"
     ]
    }
   ],
   "source": [
    "# ARMA example\n",
    "from statsmodels.tsa.arima_model import ARMA\n",
    "from random import random\n",
    "# contrived dataset\n",
    "data = [random() for x in range(1, 100)]\n",
    "# fit model\n",
    "model = ARMA(data, order=(2, 1))\n",
    "model_fit = model.fit(disp=False)\n",
    "# make prediction\n",
    "yhat = model_fit.predict(len(data), len(data))\n",
    "print(yhat)"
   ]
  },
  {
   "cell_type": "markdown",
   "metadata": {},
   "source": [
    "# Autoregressive Integrated Moving Average (ARIMA)"
   ]
  },
  {
   "cell_type": "code",
   "execution_count": 21,
   "metadata": {},
   "outputs": [
    {
     "name": "stdout",
     "output_type": "stream",
     "text": [
      "[100.44781807]\n"
     ]
    }
   ],
   "source": [
    "# ARIMA example\n",
    "from statsmodels.tsa.arima_model import ARIMA\n",
    "from random import random\n",
    "# contrived dataset\n",
    "data = [x + random() for x in range(1, 100)]\n",
    "# fit model\n",
    "model = ARIMA(data, order=(1, 1, 1))\n",
    "model_fit = model.fit(disp=False)\n",
    "# make prediction\n",
    "yhat = model_fit.predict(len(data), len(data), typ='levels')\n",
    "print(yhat)"
   ]
  },
  {
   "cell_type": "markdown",
   "metadata": {},
   "source": [
    "# Seasonal Autoregressive Integrated Moving-Average (SARIMA)"
   ]
  },
  {
   "cell_type": "code",
   "execution_count": 24,
   "metadata": {},
   "outputs": [
    {
     "name": "stderr",
     "output_type": "stream",
     "text": [
      "/opt/conda/lib/python3.7/site-packages/statsmodels/tsa/statespace/sarimax.py:1006: UserWarning: Non-invertible starting seasonal moving average Using zeros as starting parameters.\n",
      "  warn('Non-invertible starting seasonal moving average'\n"
     ]
    },
    {
     "name": "stdout",
     "output_type": "stream",
     "text": [
      "[100.53211767]\n"
     ]
    }
   ],
   "source": [
    "# SARIMA example\n",
    "from statsmodels.tsa.statespace.sarimax import SARIMAX\n",
    "from random import random\n",
    "# contrived dataset\n",
    "data = [x + random() for x in range(1, 100)]\n",
    "# fit model\n",
    "model = SARIMAX(data, order=(1, 1, 1), seasonal_order=(2, 2, 2, 2)) # original: seasonal_order=(1, 1, 1, 1)\n",
    "model_fit = model.fit(disp=False)\n",
    "# make prediction\n",
    "yhat = model_fit.predict(len(data), len(data))\n",
    "print(yhat)"
   ]
  },
  {
   "cell_type": "markdown",
   "metadata": {},
   "source": [
    "# Vector Autoregression (VAR)"
   ]
  },
  {
   "cell_type": "code",
   "execution_count": 25,
   "metadata": {},
   "outputs": [
    {
     "name": "stdout",
     "output_type": "stream",
     "text": [
      "[[100.97799737 101.43105815]]\n"
     ]
    },
    {
     "name": "stderr",
     "output_type": "stream",
     "text": [
      "/opt/conda/lib/python3.7/site-packages/statsmodels/base/wrapper.py:36: FutureWarning: y is a deprecated alias for endog, will be removed in version 0.11.0\n",
      "  obj = getattr(results, attr)\n"
     ]
    }
   ],
   "source": [
    "# VAR example\n",
    "from statsmodels.tsa.vector_ar.var_model import VAR\n",
    "from random import random\n",
    "# contrived dataset with dependency\n",
    "data = list()\n",
    "for i in range(100):\n",
    "    v1 = i + random()\n",
    "    v2 = v1 + random()\n",
    "    row = [v1, v2]\n",
    "    data.append(row)\n",
    "# fit model\n",
    "model = VAR(data)\n",
    "model_fit = model.fit()\n",
    "# make prediction\n",
    "yhat = model_fit.forecast(model_fit.y, steps=1)\n",
    "print(yhat)"
   ]
  },
  {
   "cell_type": "markdown",
   "metadata": {},
   "source": [
    "# Vector Autoregression Moving-Average (VARMA)"
   ]
  },
  {
   "cell_type": "code",
   "execution_count": 26,
   "metadata": {},
   "outputs": [
    {
     "name": "stderr",
     "output_type": "stream",
     "text": [
      "/opt/conda/lib/python3.7/site-packages/statsmodels/tsa/statespace/varmax.py:163: EstimationWarning: Estimation of VARMA(p,q) models is not generically robust, due especially to identification issues.\n",
      "  EstimationWarning)\n"
     ]
    },
    {
     "name": "stdout",
     "output_type": "stream",
     "text": [
      "[[0.5927996  0.98300934]]\n"
     ]
    },
    {
     "name": "stderr",
     "output_type": "stream",
     "text": [
      "/opt/conda/lib/python3.7/site-packages/statsmodels/base/model.py:568: ConvergenceWarning: Maximum Likelihood optimization failed to converge. Check mle_retvals\n",
      "  \"Check mle_retvals\", ConvergenceWarning)\n",
      "/opt/conda/lib/python3.7/site-packages/statsmodels/tsa/statespace/varmax.py:163: EstimationWarning: Estimation of VARMA(p,q) models is not generically robust, due especially to identification issues.\n",
      "  EstimationWarning)\n"
     ]
    }
   ],
   "source": [
    "# VARMA example\n",
    "from statsmodels.tsa.statespace.varmax import VARMAX\n",
    "from random import random\n",
    "# contrived dataset with dependency\n",
    "data = list()\n",
    "for i in range(100):\n",
    "    v1 = random()\n",
    "    v2 = v1 + random()\n",
    "    row = [v1, v2]\n",
    "    data.append(row)\n",
    "# fit model\n",
    "model = VARMAX(data, order=(1, 1))\n",
    "model_fit = model.fit(disp=False)\n",
    "# make prediction\n",
    "yhat = model_fit.forecast()\n",
    "print(yhat)"
   ]
  },
  {
   "cell_type": "markdown",
   "metadata": {},
   "source": [
    "# Vector Autoregression Moving-Average with Exogenous Regressors (VARMAX)"
   ]
  },
  {
   "cell_type": "code",
   "execution_count": 27,
   "metadata": {},
   "outputs": [
    {
     "name": "stderr",
     "output_type": "stream",
     "text": [
      "/opt/conda/lib/python3.7/site-packages/statsmodels/tsa/statespace/varmax.py:163: EstimationWarning: Estimation of VARMA(p,q) models is not generically robust, due especially to identification issues.\n",
      "  EstimationWarning)\n"
     ]
    },
    {
     "name": "stdout",
     "output_type": "stream",
     "text": [
      "[[0.55357749 0.98259305]]\n"
     ]
    },
    {
     "name": "stderr",
     "output_type": "stream",
     "text": [
      "/opt/conda/lib/python3.7/site-packages/statsmodels/base/model.py:568: ConvergenceWarning: Maximum Likelihood optimization failed to converge. Check mle_retvals\n",
      "  \"Check mle_retvals\", ConvergenceWarning)\n",
      "/opt/conda/lib/python3.7/site-packages/statsmodels/tsa/statespace/varmax.py:163: EstimationWarning: Estimation of VARMA(p,q) models is not generically robust, due especially to identification issues.\n",
      "  EstimationWarning)\n",
      "/opt/conda/lib/python3.7/site-packages/statsmodels/tsa/statespace/varmax.py:163: EstimationWarning: Estimation of VARMA(p,q) models is not generically robust, due especially to identification issues.\n",
      "  EstimationWarning)\n"
     ]
    }
   ],
   "source": [
    "# VARMAX example\n",
    "from statsmodels.tsa.statespace.varmax import VARMAX\n",
    "from random import random\n",
    "# contrived dataset with dependency\n",
    "data = list()\n",
    "for i in range(100):\n",
    "    v1 = random()\n",
    "    v2 = v1 + random()\n",
    "    row = [v1, v2]\n",
    "    data.append(row)\n",
    "data_exog = [x + random() for x in range(100)]\n",
    "# fit model\n",
    "model = VARMAX(data, exog=data_exog, order=(1, 1))\n",
    "model_fit = model.fit(disp=False)\n",
    "# make prediction\n",
    "data_exog2 = [[100]]\n",
    "yhat = model_fit.forecast(exog=data_exog2)\n",
    "print(yhat)"
   ]
  },
  {
   "cell_type": "markdown",
   "metadata": {},
   "source": [
    "# Simple Exponential Smoothing (SES)"
   ]
  },
  {
   "cell_type": "code",
   "execution_count": 28,
   "metadata": {},
   "outputs": [
    {
     "name": "stdout",
     "output_type": "stream",
     "text": [
      "[99.4442112]\n"
     ]
    }
   ],
   "source": [
    "# SES example\n",
    "from statsmodels.tsa.holtwinters import SimpleExpSmoothing\n",
    "from random import random\n",
    "# contrived dataset\n",
    "data = [x + random() for x in range(1, 100)]\n",
    "# fit model\n",
    "model = SimpleExpSmoothing(data)\n",
    "model_fit = model.fit()\n",
    "# make prediction\n",
    "yhat = model_fit.predict(len(data), len(data))\n",
    "print(yhat)"
   ]
  },
  {
   "cell_type": "markdown",
   "metadata": {},
   "source": [
    "# Holt Winter’s Exponential Smoothing (HWES)"
   ]
  },
  {
   "cell_type": "code",
   "execution_count": 29,
   "metadata": {},
   "outputs": [
    {
     "name": "stdout",
     "output_type": "stream",
     "text": [
      "[99.00847223]\n"
     ]
    }
   ],
   "source": [
    "# HWES example\n",
    "from statsmodels.tsa.holtwinters import ExponentialSmoothing\n",
    "from random import random\n",
    "# contrived dataset\n",
    "data = [x + random() for x in range(1, 100)]\n",
    "# fit model\n",
    "model = ExponentialSmoothing(data)\n",
    "model_fit = model.fit()\n",
    "# make prediction\n",
    "yhat = model_fit.predict(len(data), len(data))\n",
    "print(yhat)"
   ]
  },
  {
   "cell_type": "code",
   "execution_count": null,
   "metadata": {},
   "outputs": [],
   "source": []
  }
 ],
 "metadata": {
  "kernelspec": {
   "display_name": "Python 3",
   "language": "python",
   "name": "python3"
  },
  "language_info": {
   "codemirror_mode": {
    "name": "ipython",
    "version": 3
   },
   "file_extension": ".py",
   "mimetype": "text/x-python",
   "name": "python",
   "nbconvert_exporter": "python",
   "pygments_lexer": "ipython3",
   "version": "3.7.6"
  }
 },
 "nbformat": 4,
 "nbformat_minor": 4
}
