{
 "cells": [
  {
   "cell_type": "code",
   "execution_count": 2,
   "metadata": {},
   "outputs": [],
   "source": [
    "import pandas as pd\n",
    "import numpy as np\n",
    "import matplotlib.pyplot as plt\n",
    "import matplotlib.dates as dates\n",
    "import datetime\n",
    "from statsmodels.tsa.ar_model import AutoReg\n",
    "from statsmodels.tsa.arima_model import ARMA\n",
    "\n",
    "import os, sys\n",
    "base_dir = os.path.join(\"/home/jovyan/work/Corona/COVID-19\")\n",
    "sys.path.append(base_dir)\n",
    "import model as md"
   ]
  },
  {
   "cell_type": "code",
   "execution_count": 3,
   "metadata": {},
   "outputs": [
    {
     "name": "stdout",
     "output_type": "stream",
     "text": [
      "File: 2020.08.json\r"
     ]
    }
   ],
   "source": [
    "merger = md.Merger(data_dir=\"data\", load_from_raw=True, write_agg=True, load_from_agg=True)\n",
    "merger = md.Merger(data_dir=\"data\", load_from_raw=False, load_from_agg=True)"
   ]
  },
  {
   "cell_type": "code",
   "execution_count": 4,
   "metadata": {},
   "outputs": [],
   "source": [
    "def add_prediction(data):\n",
    "        # contrived dataset\n",
    "        data_list = data.to_list()\n",
    "        data_log_list = np.log(data_list)\n",
    "        # fit model\n",
    "        model = AutoReg(data_log_list, lags=1)\n",
    "        model_fit = model.fit()\n",
    "        # make prediction\n",
    "        predict = model_fit.predict(0, len(data_list)+1)\n",
    "        return np.exp(predict)"
   ]
  },
  {
   "cell_type": "code",
   "execution_count": 5,
   "metadata": {},
   "outputs": [
    {
     "data": {
      "text/html": [
       "<div>\n",
       "<style scoped>\n",
       "    .dataframe tbody tr th:only-of-type {\n",
       "        vertical-align: middle;\n",
       "    }\n",
       "\n",
       "    .dataframe tbody tr th {\n",
       "        vertical-align: top;\n",
       "    }\n",
       "\n",
       "    .dataframe thead th {\n",
       "        text-align: right;\n",
       "    }\n",
       "</style>\n",
       "<table border=\"1\" class=\"dataframe\">\n",
       "  <thead>\n",
       "    <tr style=\"text-align: right;\">\n",
       "      <th></th>\n",
       "      <th>onVentilator</th>\n",
       "      <th>hospital</th>\n",
       "      <th>cumulated.vaccinated</th>\n",
       "      <th>cumulated.vaccins</th>\n",
       "      <th>additional_vaccinated</th>\n",
       "      <th>additional_vaccins</th>\n",
       "    </tr>\n",
       "    <tr>\n",
       "      <th>date</th>\n",
       "      <th></th>\n",
       "      <th></th>\n",
       "      <th></th>\n",
       "      <th></th>\n",
       "      <th></th>\n",
       "      <th></th>\n",
       "    </tr>\n",
       "  </thead>\n",
       "  <tbody>\n",
       "    <tr>\n",
       "      <th>2021-01-13</th>\n",
       "      <td>347.5</td>\n",
       "      <td>4937.5</td>\n",
       "      <td>82754.0</td>\n",
       "      <td>104071.5</td>\n",
       "      <td>NaN</td>\n",
       "      <td>NaN</td>\n",
       "    </tr>\n",
       "    <tr>\n",
       "      <th>2021-01-14</th>\n",
       "      <td>341.5</td>\n",
       "      <td>4779.5</td>\n",
       "      <td>91515.0</td>\n",
       "      <td>129712.0</td>\n",
       "      <td>8761.0</td>\n",
       "      <td>25640.5</td>\n",
       "    </tr>\n",
       "    <tr>\n",
       "      <th>2021-01-15</th>\n",
       "      <td>340.5</td>\n",
       "      <td>4644.5</td>\n",
       "      <td>100914.5</td>\n",
       "      <td>129860.0</td>\n",
       "      <td>9399.5</td>\n",
       "      <td>148.0</td>\n",
       "    </tr>\n",
       "    <tr>\n",
       "      <th>2021-01-16</th>\n",
       "      <td>332.5</td>\n",
       "      <td>4504.0</td>\n",
       "      <td>109287.5</td>\n",
       "      <td>129860.0</td>\n",
       "      <td>8373.0</td>\n",
       "      <td>0.0</td>\n",
       "    </tr>\n",
       "    <tr>\n",
       "      <th>2021-01-17</th>\n",
       "      <td>328.5</td>\n",
       "      <td>4376.5</td>\n",
       "      <td>116395.5</td>\n",
       "      <td>129860.0</td>\n",
       "      <td>7108.0</td>\n",
       "      <td>0.0</td>\n",
       "    </tr>\n",
       "    <tr>\n",
       "      <th>2021-01-18</th>\n",
       "      <td>329.5</td>\n",
       "      <td>4395.0</td>\n",
       "      <td>121566.0</td>\n",
       "      <td>129860.0</td>\n",
       "      <td>5170.5</td>\n",
       "      <td>0.0</td>\n",
       "    </tr>\n",
       "    <tr>\n",
       "      <th>2021-01-19</th>\n",
       "      <td>319.5</td>\n",
       "      <td>4445.0</td>\n",
       "      <td>126438.5</td>\n",
       "      <td>129860.0</td>\n",
       "      <td>4872.5</td>\n",
       "      <td>0.0</td>\n",
       "    </tr>\n",
       "    <tr>\n",
       "      <th>2021-01-20</th>\n",
       "      <td>301.5</td>\n",
       "      <td>4331.5</td>\n",
       "      <td>130003.5</td>\n",
       "      <td>147702.5</td>\n",
       "      <td>3565.0</td>\n",
       "      <td>17842.5</td>\n",
       "    </tr>\n",
       "    <tr>\n",
       "      <th>2021-01-21</th>\n",
       "      <td>290.0</td>\n",
       "      <td>4133.5</td>\n",
       "      <td>132436.0</td>\n",
       "      <td>165545.0</td>\n",
       "      <td>2432.5</td>\n",
       "      <td>17842.5</td>\n",
       "    </tr>\n",
       "    <tr>\n",
       "      <th>2021-01-22</th>\n",
       "      <td>280.0</td>\n",
       "      <td>4004.0</td>\n",
       "      <td>136768.5</td>\n",
       "      <td>165545.0</td>\n",
       "      <td>4332.5</td>\n",
       "      <td>0.0</td>\n",
       "    </tr>\n",
       "    <tr>\n",
       "      <th>2021-01-23</th>\n",
       "      <td>266.5</td>\n",
       "      <td>3906.5</td>\n",
       "      <td>141083.5</td>\n",
       "      <td>165545.0</td>\n",
       "      <td>4315.0</td>\n",
       "      <td>0.0</td>\n",
       "    </tr>\n",
       "    <tr>\n",
       "      <th>2021-01-24</th>\n",
       "      <td>256.5</td>\n",
       "      <td>3823.5</td>\n",
       "      <td>144220.5</td>\n",
       "      <td>165545.0</td>\n",
       "      <td>3137.0</td>\n",
       "      <td>0.0</td>\n",
       "    </tr>\n",
       "    <tr>\n",
       "      <th>2021-01-25</th>\n",
       "      <td>250.5</td>\n",
       "      <td>3803.5</td>\n",
       "      <td>145976.0</td>\n",
       "      <td>171102.5</td>\n",
       "      <td>1755.5</td>\n",
       "      <td>5557.5</td>\n",
       "    </tr>\n",
       "    <tr>\n",
       "      <th>2021-01-26</th>\n",
       "      <td>255.0</td>\n",
       "      <td>3814.5</td>\n",
       "      <td>148185.5</td>\n",
       "      <td>176660.0</td>\n",
       "      <td>2209.5</td>\n",
       "      <td>5557.5</td>\n",
       "    </tr>\n",
       "    <tr>\n",
       "      <th>2021-01-27</th>\n",
       "      <td>259.0</td>\n",
       "      <td>3812.0</td>\n",
       "      <td>151190.0</td>\n",
       "      <td>188830.0</td>\n",
       "      <td>3004.5</td>\n",
       "      <td>12170.0</td>\n",
       "    </tr>\n",
       "    <tr>\n",
       "      <th>2021-01-28</th>\n",
       "      <td>255.0</td>\n",
       "      <td>3739.0</td>\n",
       "      <td>156959.5</td>\n",
       "      <td>201000.0</td>\n",
       "      <td>5769.5</td>\n",
       "      <td>12170.0</td>\n",
       "    </tr>\n",
       "    <tr>\n",
       "      <th>2021-01-29</th>\n",
       "      <td>256.5</td>\n",
       "      <td>3659.0</td>\n",
       "      <td>168249.0</td>\n",
       "      <td>201000.0</td>\n",
       "      <td>11289.5</td>\n",
       "      <td>0.0</td>\n",
       "    </tr>\n",
       "    <tr>\n",
       "      <th>2021-01-30</th>\n",
       "      <td>261.0</td>\n",
       "      <td>3615.5</td>\n",
       "      <td>186783.0</td>\n",
       "      <td>201000.0</td>\n",
       "      <td>18534.0</td>\n",
       "      <td>0.0</td>\n",
       "    </tr>\n",
       "    <tr>\n",
       "      <th>2021-02-01</th>\n",
       "      <td>268.5</td>\n",
       "      <td>3632.0</td>\n",
       "      <td>218077.5</td>\n",
       "      <td>211000.0</td>\n",
       "      <td>31294.5</td>\n",
       "      <td>10000.0</td>\n",
       "    </tr>\n",
       "    <tr>\n",
       "      <th>2021-02-02</th>\n",
       "      <td>272.5</td>\n",
       "      <td>3705.5</td>\n",
       "      <td>240454.0</td>\n",
       "      <td>221000.0</td>\n",
       "      <td>22376.5</td>\n",
       "      <td>10000.0</td>\n",
       "    </tr>\n",
       "    <tr>\n",
       "      <th>2021-02-03</th>\n",
       "      <td>270.5</td>\n",
       "      <td>3713.0</td>\n",
       "      <td>245153.0</td>\n",
       "      <td>235500.0</td>\n",
       "      <td>4699.0</td>\n",
       "      <td>14500.0</td>\n",
       "    </tr>\n",
       "    <tr>\n",
       "      <th>2021-02-04</th>\n",
       "      <td>279.0</td>\n",
       "      <td>3672.5</td>\n",
       "      <td>248478.5</td>\n",
       "      <td>250000.0</td>\n",
       "      <td>3325.5</td>\n",
       "      <td>14500.0</td>\n",
       "    </tr>\n",
       "    <tr>\n",
       "      <th>2021-02-05</th>\n",
       "      <td>295.5</td>\n",
       "      <td>3643.0</td>\n",
       "      <td>257108.5</td>\n",
       "      <td>250000.0</td>\n",
       "      <td>8630.0</td>\n",
       "      <td>0.0</td>\n",
       "    </tr>\n",
       "    <tr>\n",
       "      <th>2021-02-06</th>\n",
       "      <td>300.0</td>\n",
       "      <td>3619.5</td>\n",
       "      <td>271970.0</td>\n",
       "      <td>260200.0</td>\n",
       "      <td>14861.5</td>\n",
       "      <td>10200.0</td>\n",
       "    </tr>\n",
       "  </tbody>\n",
       "</table>\n",
       "</div>"
      ],
      "text/plain": [
       "            onVentilator  hospital  cumulated.vaccinated  cumulated.vaccins  \\\n",
       "date                                                                          \n",
       "2021-01-13         347.5    4937.5               82754.0           104071.5   \n",
       "2021-01-14         341.5    4779.5               91515.0           129712.0   \n",
       "2021-01-15         340.5    4644.5              100914.5           129860.0   \n",
       "2021-01-16         332.5    4504.0              109287.5           129860.0   \n",
       "2021-01-17         328.5    4376.5              116395.5           129860.0   \n",
       "2021-01-18         329.5    4395.0              121566.0           129860.0   \n",
       "2021-01-19         319.5    4445.0              126438.5           129860.0   \n",
       "2021-01-20         301.5    4331.5              130003.5           147702.5   \n",
       "2021-01-21         290.0    4133.5              132436.0           165545.0   \n",
       "2021-01-22         280.0    4004.0              136768.5           165545.0   \n",
       "2021-01-23         266.5    3906.5              141083.5           165545.0   \n",
       "2021-01-24         256.5    3823.5              144220.5           165545.0   \n",
       "2021-01-25         250.5    3803.5              145976.0           171102.5   \n",
       "2021-01-26         255.0    3814.5              148185.5           176660.0   \n",
       "2021-01-27         259.0    3812.0              151190.0           188830.0   \n",
       "2021-01-28         255.0    3739.0              156959.5           201000.0   \n",
       "2021-01-29         256.5    3659.0              168249.0           201000.0   \n",
       "2021-01-30         261.0    3615.5              186783.0           201000.0   \n",
       "2021-02-01         268.5    3632.0              218077.5           211000.0   \n",
       "2021-02-02         272.5    3705.5              240454.0           221000.0   \n",
       "2021-02-03         270.5    3713.0              245153.0           235500.0   \n",
       "2021-02-04         279.0    3672.5              248478.5           250000.0   \n",
       "2021-02-05         295.5    3643.0              257108.5           250000.0   \n",
       "2021-02-06         300.0    3619.5              271970.0           260200.0   \n",
       "\n",
       "            additional_vaccinated  additional_vaccins  \n",
       "date                                                   \n",
       "2021-01-13                    NaN                 NaN  \n",
       "2021-01-14                 8761.0             25640.5  \n",
       "2021-01-15                 9399.5               148.0  \n",
       "2021-01-16                 8373.0                 0.0  \n",
       "2021-01-17                 7108.0                 0.0  \n",
       "2021-01-18                 5170.5                 0.0  \n",
       "2021-01-19                 4872.5                 0.0  \n",
       "2021-01-20                 3565.0             17842.5  \n",
       "2021-01-21                 2432.5             17842.5  \n",
       "2021-01-22                 4332.5                 0.0  \n",
       "2021-01-23                 4315.0                 0.0  \n",
       "2021-01-24                 3137.0                 0.0  \n",
       "2021-01-25                 1755.5              5557.5  \n",
       "2021-01-26                 2209.5              5557.5  \n",
       "2021-01-27                 3004.5             12170.0  \n",
       "2021-01-28                 5769.5             12170.0  \n",
       "2021-01-29                11289.5                 0.0  \n",
       "2021-01-30                18534.0                 0.0  \n",
       "2021-02-01                31294.5             10000.0  \n",
       "2021-02-02                22376.5             10000.0  \n",
       "2021-02-03                 4699.0             14500.0  \n",
       "2021-02-04                 3325.5             14500.0  \n",
       "2021-02-05                 8630.0                 0.0  \n",
       "2021-02-06                14861.5             10200.0  "
      ]
     },
     "execution_count": 5,
     "metadata": {},
     "output_type": "execute_result"
    }
   ],
   "source": [
    "columns = [\"additional.infected\",\"additional.deaths\",\"hospital\",\"onVentilator\",\"active.infected\"]\n",
    "columns = [\"onVentilator\",\"hospital\",\"cumulated.vaccinated\",\"cumulated.vaccins\"]\n",
    "selected_df = merger.df[\"details\"][[\"date\"] + columns].dropna()\n",
    "rolling_mean = selected_df[selected_df[\"date\"]>=\"2021-01-01\"].set_index([\"date\"]).rolling(2).mean().dropna()\n",
    "# Set back to rolling(7) after more than 7 data points (2021-01-12)\n",
    "rolling_mean = rolling_mean.assign(\n",
    "    additional_vaccinated=rolling_mean[\"cumulated.vaccinated\"]-rolling_mean[\"cumulated.vaccinated\"].shift(1),\n",
    "    additional_vaccins=rolling_mean[\"cumulated.vaccins\"]-rolling_mean[\"cumulated.vaccins\"].shift(1))\n",
    "rolling_mean"
   ]
  },
  {
   "cell_type": "code",
   "execution_count": 6,
   "metadata": {},
   "outputs": [],
   "source": [
    "new_row = pd.DataFrame(\n",
    "    [[max(rolling_mean.reset_index()[\"date\"]) + datetime.timedelta(days=1)] + [None] * len(columns)], \n",
    "    columns=[\"date\"] + columns\n",
    ").set_index(\"date\")\n",
    "rolling_mean_pred = rolling_mean.append(new_row)\n",
    "rolling_mean_pred.tail(5)\n",
    "\n",
    "for key in columns:\n",
    "    rolling_mean_pred[\"pred_{}\".format(key)] = add_prediction(rolling_mean[key])\n",
    "    rolling_mean_pred[\"error_{}\".format(key)] = rolling_mean_pred[key]-rolling_mean_pred[\"pred_{}\".format(key)]"
   ]
  },
  {
   "cell_type": "code",
   "execution_count": 7,
   "metadata": {
    "scrolled": false
   },
   "outputs": [
    {
     "data": {
      "image/png": "[encoded data removed]",
      "text/plain": [
       "<Figure size 1440x1440 with 4 Axes>"
      ]
     },
     "metadata": {
      "needs_background": "light"
     },
     "output_type": "display_data"
    },
    {
     "data": {
      "text/html": [
       "<div>\n",
       "<style scoped>\n",
       "    .dataframe tbody tr th:only-of-type {\n",
       "        vertical-align: middle;\n",
       "    }\n",
       "\n",
       "    .dataframe tbody tr th {\n",
       "        vertical-align: top;\n",
       "    }\n",
       "\n",
       "    .dataframe thead th {\n",
       "        text-align: right;\n",
       "    }\n",
       "</style>\n",
       "<table border=\"1\" class=\"dataframe\">\n",
       "  <thead>\n",
       "    <tr style=\"text-align: right;\">\n",
       "      <th></th>\n",
       "      <th>onVentilator</th>\n",
       "      <th>hospital</th>\n",
       "      <th>cumulated.vaccinated</th>\n",
       "      <th>cumulated.vaccins</th>\n",
       "      <th>additional_vaccinated</th>\n",
       "      <th>additional_vaccins</th>\n",
       "      <th>pred_onVentilator</th>\n",
       "      <th>error_onVentilator</th>\n",
       "      <th>pred_hospital</th>\n",
       "      <th>error_hospital</th>\n",
       "      <th>pred_cumulated.vaccinated</th>\n",
       "      <th>error_cumulated.vaccinated</th>\n",
       "      <th>pred_cumulated.vaccins</th>\n",
       "      <th>error_cumulated.vaccins</th>\n",
       "    </tr>\n",
       "    <tr>\n",
       "      <th>date</th>\n",
       "      <th></th>\n",
       "      <th></th>\n",
       "      <th></th>\n",
       "      <th></th>\n",
       "      <th></th>\n",
       "      <th></th>\n",
       "      <th></th>\n",
       "      <th></th>\n",
       "      <th></th>\n",
       "      <th></th>\n",
       "      <th></th>\n",
       "      <th></th>\n",
       "      <th></th>\n",
       "      <th></th>\n",
       "    </tr>\n",
       "  </thead>\n",
       "  <tbody>\n",
       "    <tr>\n",
       "      <th>2021-02-05</th>\n",
       "      <td>295.5</td>\n",
       "      <td>3643.0</td>\n",
       "      <td>257108.5</td>\n",
       "      <td>250000.0</td>\n",
       "      <td>8630.0</td>\n",
       "      <td>0.0</td>\n",
       "      <td>292.864821</td>\n",
       "      <td>2.635179</td>\n",
       "      <td>3628.091074</td>\n",
       "      <td>14.908926</td>\n",
       "      <td>268290.459724</td>\n",
       "      <td>-11181.959724</td>\n",
       "      <td>254352.089796</td>\n",
       "      <td>-4352.089796</td>\n",
       "    </tr>\n",
       "    <tr>\n",
       "      <th>2021-02-06</th>\n",
       "      <td>300.0</td>\n",
       "      <td>3619.5</td>\n",
       "      <td>271970.0</td>\n",
       "      <td>260200.0</td>\n",
       "      <td>14861.5</td>\n",
       "      <td>10200.0</td>\n",
       "      <td>296.895875</td>\n",
       "      <td>3.104125</td>\n",
       "      <td>3606.870203</td>\n",
       "      <td>12.629797</td>\n",
       "      <td>283530.991367</td>\n",
       "      <td>-11560.991367</td>\n",
       "      <td>264119.160440</td>\n",
       "      <td>-3919.160440</td>\n",
       "    </tr>\n",
       "    <tr>\n",
       "      <th>2021-02-07</th>\n",
       "      <td>NaN</td>\n",
       "      <td>NaN</td>\n",
       "      <td>NaN</td>\n",
       "      <td>NaN</td>\n",
       "      <td>NaN</td>\n",
       "      <td>NaN</td>\n",
       "      <td>294.115855</td>\n",
       "      <td>NaN</td>\n",
       "      <td>3595.459977</td>\n",
       "      <td>NaN</td>\n",
       "      <td>295377.140078</td>\n",
       "      <td>NaN</td>\n",
       "      <td>267866.052873</td>\n",
       "      <td>NaN</td>\n",
       "    </tr>\n",
       "  </tbody>\n",
       "</table>\n",
       "</div>"
      ],
      "text/plain": [
       "            onVentilator  hospital  cumulated.vaccinated  cumulated.vaccins  \\\n",
       "date                                                                          \n",
       "2021-02-05         295.5    3643.0              257108.5           250000.0   \n",
       "2021-02-06         300.0    3619.5              271970.0           260200.0   \n",
       "2021-02-07           NaN       NaN                   NaN                NaN   \n",
       "\n",
       "            additional_vaccinated  additional_vaccins  pred_onVentilator  \\\n",
       "date                                                                       \n",
       "2021-02-05                 8630.0                 0.0         292.864821   \n",
       "2021-02-06                14861.5             10200.0         296.895875   \n",
       "2021-02-07                    NaN                 NaN         294.115855   \n",
       "\n",
       "            error_onVentilator  pred_hospital  error_hospital  \\\n",
       "date                                                            \n",
       "2021-02-05            2.635179    3628.091074       14.908926   \n",
       "2021-02-06            3.104125    3606.870203       12.629797   \n",
       "2021-02-07                 NaN    3595.459977             NaN   \n",
       "\n",
       "            pred_cumulated.vaccinated  error_cumulated.vaccinated  \\\n",
       "date                                                                \n",
       "2021-02-05              268290.459724               -11181.959724   \n",
       "2021-02-06              283530.991367               -11560.991367   \n",
       "2021-02-07              295377.140078                         NaN   \n",
       "\n",
       "            pred_cumulated.vaccins  error_cumulated.vaccins  \n",
       "date                                                         \n",
       "2021-02-05           254352.089796             -4352.089796  \n",
       "2021-02-06           264119.160440             -3919.160440  \n",
       "2021-02-07           267866.052873                      NaN  "
      ]
     },
     "execution_count": 7,
     "metadata": {},
     "output_type": "execute_result"
    }
   ],
   "source": [
    "(fig, ax) = plt.subplots(figsize=(20,5*len(columns)), nrows=len(columns), sharex=True)\n",
    "for key in columns:\n",
    "    index = columns.index(key)\n",
    "    ax[index].set_xlim(\n",
    "        datetime.date.today() - datetime.timedelta(days=14),\n",
    "        datetime.date.today() + datetime.timedelta(days=1)\n",
    "    )\n",
    "    #ax[index].set_yscale(\"log\")\n",
    "    selected_df.plot(x=\"date\", y=key, ax=ax[index], label=\"{} - raw\".format(key))\n",
    "    rolling_mean.reset_index().plot(x=\"date\", y=key, ax=ax[index], label=\"{} - 7day mean\".format(key))\n",
    "    #rolling_mean_pred.reset_index().plot(x=\"date\", y=\"pred_{}\".format(key), ax=ax[index], label=\"{} - pred\".format(key))\n",
    "plt.legend()\n",
    "plt.show()\n",
    "rolling_mean_pred.tail(3)"
   ]
  },
  {
   "cell_type": "code",
   "execution_count": 8,
   "metadata": {},
   "outputs": [
    {
     "data": {
      "text/html": [
       "<div>\n",
       "<style scoped>\n",
       "    .dataframe tbody tr th:only-of-type {\n",
       "        vertical-align: middle;\n",
       "    }\n",
       "\n",
       "    .dataframe tbody tr th {\n",
       "        vertical-align: top;\n",
       "    }\n",
       "\n",
       "    .dataframe thead th {\n",
       "        text-align: right;\n",
       "    }\n",
       "</style>\n",
       "<table border=\"1\" class=\"dataframe\">\n",
       "  <thead>\n",
       "    <tr style=\"text-align: right;\">\n",
       "      <th></th>\n",
       "      <th>onVentilator</th>\n",
       "      <th>hospital</th>\n",
       "      <th>cumulated.vaccinated</th>\n",
       "      <th>cumulated.vaccins</th>\n",
       "      <th>additional_vaccinated</th>\n",
       "      <th>additional_vaccins</th>\n",
       "      <th>pred_onVentilator</th>\n",
       "      <th>error_onVentilator</th>\n",
       "      <th>pred_hospital</th>\n",
       "      <th>error_hospital</th>\n",
       "      <th>pred_cumulated.vaccinated</th>\n",
       "      <th>error_cumulated.vaccinated</th>\n",
       "      <th>pred_cumulated.vaccins</th>\n",
       "      <th>error_cumulated.vaccins</th>\n",
       "    </tr>\n",
       "    <tr>\n",
       "      <th>date</th>\n",
       "      <th></th>\n",
       "      <th></th>\n",
       "      <th></th>\n",
       "      <th></th>\n",
       "      <th></th>\n",
       "      <th></th>\n",
       "      <th></th>\n",
       "      <th></th>\n",
       "      <th></th>\n",
       "      <th></th>\n",
       "      <th></th>\n",
       "      <th></th>\n",
       "      <th></th>\n",
       "      <th></th>\n",
       "    </tr>\n",
       "  </thead>\n",
       "  <tbody>\n",
       "    <tr>\n",
       "      <th>2021-02-03</th>\n",
       "      <td>270.5</td>\n",
       "      <td>3713.0</td>\n",
       "      <td>245153.0</td>\n",
       "      <td>235500.0</td>\n",
       "      <td>4699.0</td>\n",
       "      <td>14500.0</td>\n",
       "      <td>270.360413</td>\n",
       "      <td>0.139587</td>\n",
       "      <td>3691.226667</td>\n",
       "      <td>21.773333</td>\n",
       "      <td>256019.351849</td>\n",
       "      <td>-10866.351849</td>\n",
       "      <td>240427.622867</td>\n",
       "      <td>-4927.622867</td>\n",
       "    </tr>\n",
       "    <tr>\n",
       "      <th>2021-02-04</th>\n",
       "      <td>279.0</td>\n",
       "      <td>3672.5</td>\n",
       "      <td>248478.5</td>\n",
       "      <td>250000.0</td>\n",
       "      <td>3325.5</td>\n",
       "      <td>14500.0</td>\n",
       "      <td>278.033331</td>\n",
       "      <td>0.966669</td>\n",
       "      <td>3654.711929</td>\n",
       "      <td>17.788071</td>\n",
       "      <td>259433.627381</td>\n",
       "      <td>-10955.127381</td>\n",
       "      <td>254352.089796</td>\n",
       "      <td>-4352.089796</td>\n",
       "    </tr>\n",
       "    <tr>\n",
       "      <th>2021-02-05</th>\n",
       "      <td>295.5</td>\n",
       "      <td>3643.0</td>\n",
       "      <td>257108.5</td>\n",
       "      <td>250000.0</td>\n",
       "      <td>8630.0</td>\n",
       "      <td>0.0</td>\n",
       "      <td>292.864821</td>\n",
       "      <td>2.635179</td>\n",
       "      <td>3628.091074</td>\n",
       "      <td>14.908926</td>\n",
       "      <td>268290.459724</td>\n",
       "      <td>-11181.959724</td>\n",
       "      <td>254352.089796</td>\n",
       "      <td>-4352.089796</td>\n",
       "    </tr>\n",
       "    <tr>\n",
       "      <th>2021-02-06</th>\n",
       "      <td>300.0</td>\n",
       "      <td>3619.5</td>\n",
       "      <td>271970.0</td>\n",
       "      <td>260200.0</td>\n",
       "      <td>14861.5</td>\n",
       "      <td>10200.0</td>\n",
       "      <td>296.895875</td>\n",
       "      <td>3.104125</td>\n",
       "      <td>3606.870203</td>\n",
       "      <td>12.629797</td>\n",
       "      <td>283530.991367</td>\n",
       "      <td>-11560.991367</td>\n",
       "      <td>264119.160440</td>\n",
       "      <td>-3919.160440</td>\n",
       "    </tr>\n",
       "    <tr>\n",
       "      <th>2021-02-07</th>\n",
       "      <td>NaN</td>\n",
       "      <td>NaN</td>\n",
       "      <td>NaN</td>\n",
       "      <td>NaN</td>\n",
       "      <td>NaN</td>\n",
       "      <td>NaN</td>\n",
       "      <td>294.115855</td>\n",
       "      <td>NaN</td>\n",
       "      <td>3595.459977</td>\n",
       "      <td>NaN</td>\n",
       "      <td>295377.140078</td>\n",
       "      <td>NaN</td>\n",
       "      <td>267866.052873</td>\n",
       "      <td>NaN</td>\n",
       "    </tr>\n",
       "  </tbody>\n",
       "</table>\n",
       "</div>"
      ],
      "text/plain": [
       "            onVentilator  hospital  cumulated.vaccinated  cumulated.vaccins  \\\n",
       "date                                                                          \n",
       "2021-02-03         270.5    3713.0              245153.0           235500.0   \n",
       "2021-02-04         279.0    3672.5              248478.5           250000.0   \n",
       "2021-02-05         295.5    3643.0              257108.5           250000.0   \n",
       "2021-02-06         300.0    3619.5              271970.0           260200.0   \n",
       "2021-02-07           NaN       NaN                   NaN                NaN   \n",
       "\n",
       "            additional_vaccinated  additional_vaccins  pred_onVentilator  \\\n",
       "date                                                                       \n",
       "2021-02-03                 4699.0             14500.0         270.360413   \n",
       "2021-02-04                 3325.5             14500.0         278.033331   \n",
       "2021-02-05                 8630.0                 0.0         292.864821   \n",
       "2021-02-06                14861.5             10200.0         296.895875   \n",
       "2021-02-07                    NaN                 NaN         294.115855   \n",
       "\n",
       "            error_onVentilator  pred_hospital  error_hospital  \\\n",
       "date                                                            \n",
       "2021-02-03            0.139587    3691.226667       21.773333   \n",
       "2021-02-04            0.966669    3654.711929       17.788071   \n",
       "2021-02-05            2.635179    3628.091074       14.908926   \n",
       "2021-02-06            3.104125    3606.870203       12.629797   \n",
       "2021-02-07                 NaN    3595.459977             NaN   \n",
       "\n",
       "            pred_cumulated.vaccinated  error_cumulated.vaccinated  \\\n",
       "date                                                                \n",
       "2021-02-03              256019.351849               -10866.351849   \n",
       "2021-02-04              259433.627381               -10955.127381   \n",
       "2021-02-05              268290.459724               -11181.959724   \n",
       "2021-02-06              283530.991367               -11560.991367   \n",
       "2021-02-07              295377.140078                         NaN   \n",
       "\n",
       "            pred_cumulated.vaccins  error_cumulated.vaccins  \n",
       "date                                                         \n",
       "2021-02-03           240427.622867             -4927.622867  \n",
       "2021-02-04           254352.089796             -4352.089796  \n",
       "2021-02-05           254352.089796             -4352.089796  \n",
       "2021-02-06           264119.160440             -3919.160440  \n",
       "2021-02-07           267866.052873                      NaN  "
      ]
     },
     "execution_count": 8,
     "metadata": {},
     "output_type": "execute_result"
    }
   ],
   "source": [
    "rolling_mean_pred.tail(5)"
   ]
  },
  {
   "cell_type": "markdown",
   "metadata": {},
   "source": [
    "https://machinelearningmastery.com/time-series-forecasting-methods-in-python-cheat-sheet/"
   ]
  },
  {
   "cell_type": "markdown",
   "metadata": {},
   "source": [
    "# Autoregression (AR)"
   ]
  },
  {
   "cell_type": "code",
   "execution_count": 20,
   "metadata": {},
   "outputs": [
    {
     "name": "stdout",
     "output_type": "stream",
     "text": [
      "[100.95357141]\n"
     ]
    }
   ],
   "source": [
    "# AR example\n",
    "from statsmodels.tsa.ar_model import AutoReg\n",
    "from random import random\n",
    "# contrived dataset\n",
    "data = [x + random() for x in range(1, 100)]\n",
    "# fit model\n",
    "model = AutoReg(data, lags=1)\n",
    "model_fit = model.fit()\n",
    "# make prediction\n",
    "yhat = model_fit.predict(len(data), len(data))\n",
    "print(yhat)"
   ]
  },
  {
   "cell_type": "markdown",
   "metadata": {},
   "source": [
    "# Moving Average (MA)"
   ]
  },
  {
   "cell_type": "code",
   "execution_count": 18,
   "metadata": {},
   "outputs": [
    {
     "name": "stdout",
     "output_type": "stream",
     "text": [
      "[72.85861191]\n"
     ]
    }
   ],
   "source": [
    "# MA example\n",
    "from statsmodels.tsa.arima_model import ARMA\n",
    "from random import random\n",
    "# contrived dataset\n",
    "data = [x + random() for x in range(1, 100)]\n",
    "# fit model\n",
    "model = ARMA(data, order=(0, 1))\n",
    "model_fit = model.fit(disp=False)\n",
    "# make prediction\n",
    "yhat = model_fit.predict(len(data), len(data))\n",
    "print(yhat)"
   ]
  },
  {
   "cell_type": "markdown",
   "metadata": {},
   "source": [
    "# Autoregressive Moving Average (ARMA)"
   ]
  },
  {
   "cell_type": "code",
   "execution_count": 20,
   "metadata": {},
   "outputs": [
    {
     "name": "stdout",
     "output_type": "stream",
     "text": [
      "[0.51375467]\n"
     ]
    }
   ],
   "source": [
    "# ARMA example\n",
    "from statsmodels.tsa.arima_model import ARMA\n",
    "from random import random\n",
    "# contrived dataset\n",
    "data = [random() for x in range(1, 100)]\n",
    "# fit model\n",
    "model = ARMA(data, order=(2, 1))\n",
    "model_fit = model.fit(disp=False)\n",
    "# make prediction\n",
    "yhat = model_fit.predict(len(data), len(data))\n",
    "print(yhat)"
   ]
  },
  {
   "cell_type": "markdown",
   "metadata": {},
   "source": [
    "# Autoregressive Integrated Moving Average (ARIMA)"
   ]
  },
  {
   "cell_type": "code",
   "execution_count": 21,
   "metadata": {},
   "outputs": [
    {
     "name": "stdout",
     "output_type": "stream",
     "text": [
      "[100.44781807]\n"
     ]
    }
   ],
   "source": [
    "# ARIMA example\n",
    "from statsmodels.tsa.arima_model import ARIMA\n",
    "from random import random\n",
    "# contrived dataset\n",
    "data = [x + random() for x in range(1, 100)]\n",
    "# fit model\n",
    "model = ARIMA(data, order=(1, 1, 1))\n",
    "model_fit = model.fit(disp=False)\n",
    "# make prediction\n",
    "yhat = model_fit.predict(len(data), len(data), typ='levels')\n",
    "print(yhat)"
   ]
  },
  {
   "cell_type": "markdown",
   "metadata": {},
   "source": [
    "# Seasonal Autoregressive Integrated Moving-Average (SARIMA)"
   ]
  },
  {
   "cell_type": "code",
   "execution_count": 24,
   "metadata": {},
   "outputs": [
    {
     "name": "stderr",
     "output_type": "stream",
     "text": [
      "/opt/conda/lib/python3.7/site-packages/statsmodels/tsa/statespace/sarimax.py:1006: UserWarning: Non-invertible starting seasonal moving average Using zeros as starting parameters.\n",
      "  warn('Non-invertible starting seasonal moving average'\n"
     ]
    },
    {
     "name": "stdout",
     "output_type": "stream",
     "text": [
      "[100.53211767]\n"
     ]
    }
   ],
   "source": [
    "# SARIMA example\n",
    "from statsmodels.tsa.statespace.sarimax import SARIMAX\n",
    "from random import random\n",
    "# contrived dataset\n",
    "data = [x + random() for x in range(1, 100)]\n",
    "# fit model\n",
    "model = SARIMAX(data, order=(1, 1, 1), seasonal_order=(2, 2, 2, 2)) # original: seasonal_order=(1, 1, 1, 1)\n",
    "model_fit = model.fit(disp=False)\n",
    "# make prediction\n",
    "yhat = model_fit.predict(len(data), len(data))\n",
    "print(yhat)"
   ]
  },
  {
   "cell_type": "markdown",
   "metadata": {},
   "source": [
    "# Vector Autoregression (VAR)"
   ]
  },
  {
   "cell_type": "code",
   "execution_count": 25,
   "metadata": {},
   "outputs": [
    {
     "name": "stdout",
     "output_type": "stream",
     "text": [
      "[[100.97799737 101.43105815]]\n"
     ]
    },
    {
     "name": "stderr",
     "output_type": "stream",
     "text": [
      "/opt/conda/lib/python3.7/site-packages/statsmodels/base/wrapper.py:36: FutureWarning: y is a deprecated alias for endog, will be removed in version 0.11.0\n",
      "  obj = getattr(results, attr)\n"
     ]
    }
   ],
   "source": [
    "# VAR example\n",
    "from statsmodels.tsa.vector_ar.var_model import VAR\n",
    "from random import random\n",
    "# contrived dataset with dependency\n",
    "data = list()\n",
    "for i in range(100):\n",
    "    v1 = i + random()\n",
    "    v2 = v1 + random()\n",
    "    row = [v1, v2]\n",
    "    data.append(row)\n",
    "# fit model\n",
    "model = VAR(data)\n",
    "model_fit = model.fit()\n",
    "# make prediction\n",
    "yhat = model_fit.forecast(model_fit.y, steps=1)\n",
    "print(yhat)"
   ]
  },
  {
   "cell_type": "markdown",
   "metadata": {},
   "source": [
    "# Vector Autoregression Moving-Average (VARMA)"
   ]
  },
  {
   "cell_type": "code",
   "execution_count": 26,
   "metadata": {},
   "outputs": [
    {
     "name": "stderr",
     "output_type": "stream",
     "text": [
      "/opt/conda/lib/python3.7/site-packages/statsmodels/tsa/statespace/varmax.py:163: EstimationWarning: Estimation of VARMA(p,q) models is not generically robust, due especially to identification issues.\n",
      "  EstimationWarning)\n"
     ]
    },
    {
     "name": "stdout",
     "output_type": "stream",
     "text": [
      "[[0.5927996  0.98300934]]\n"
     ]
    },
    {
     "name": "stderr",
     "output_type": "stream",
     "text": [
      "/opt/conda/lib/python3.7/site-packages/statsmodels/base/model.py:568: ConvergenceWarning: Maximum Likelihood optimization failed to converge. Check mle_retvals\n",
      "  \"Check mle_retvals\", ConvergenceWarning)\n",
      "/opt/conda/lib/python3.7/site-packages/statsmodels/tsa/statespace/varmax.py:163: EstimationWarning: Estimation of VARMA(p,q) models is not generically robust, due especially to identification issues.\n",
      "  EstimationWarning)\n"
     ]
    }
   ],
   "source": [
    "# VARMA example\n",
    "from statsmodels.tsa.statespace.varmax import VARMAX\n",
    "from random import random\n",
    "# contrived dataset with dependency\n",
    "data = list()\n",
    "for i in range(100):\n",
    "    v1 = random()\n",
    "    v2 = v1 + random()\n",
    "    row = [v1, v2]\n",
    "    data.append(row)\n",
    "# fit model\n",
    "model = VARMAX(data, order=(1, 1))\n",
    "model_fit = model.fit(disp=False)\n",
    "# make prediction\n",
    "yhat = model_fit.forecast()\n",
    "print(yhat)"
   ]
  },
  {
   "cell_type": "markdown",
   "metadata": {},
   "source": [
    "# Vector Autoregression Moving-Average with Exogenous Regressors (VARMAX)"
   ]
  },
  {
   "cell_type": "code",
   "execution_count": 27,
   "metadata": {},
   "outputs": [
    {
     "name": "stderr",
     "output_type": "stream",
     "text": [
      "/opt/conda/lib/python3.7/site-packages/statsmodels/tsa/statespace/varmax.py:163: EstimationWarning: Estimation of VARMA(p,q) models is not generically robust, due especially to identification issues.\n",
      "  EstimationWarning)\n"
     ]
    },
    {
     "name": "stdout",
     "output_type": "stream",
     "text": [
      "[[0.55357749 0.98259305]]\n"
     ]
    },
    {
     "name": "stderr",
     "output_type": "stream",
     "text": [
      "/opt/conda/lib/python3.7/site-packages/statsmodels/base/model.py:568: ConvergenceWarning: Maximum Likelihood optimization failed to converge. Check mle_retvals\n",
      "  \"Check mle_retvals\", ConvergenceWarning)\n",
      "/opt/conda/lib/python3.7/site-packages/statsmodels/tsa/statespace/varmax.py:163: EstimationWarning: Estimation of VARMA(p,q) models is not generically robust, due especially to identification issues.\n",
      "  EstimationWarning)\n",
      "/opt/conda/lib/python3.7/site-packages/statsmodels/tsa/statespace/varmax.py:163: EstimationWarning: Estimation of VARMA(p,q) models is not generically robust, due especially to identification issues.\n",
      "  EstimationWarning)\n"
     ]
    }
   ],
   "source": [
    "# VARMAX example\n",
    "from statsmodels.tsa.statespace.varmax import VARMAX\n",
    "from random import random\n",
    "# contrived dataset with dependency\n",
    "data = list()\n",
    "for i in range(100):\n",
    "    v1 = random()\n",
    "    v2 = v1 + random()\n",
    "    row = [v1, v2]\n",
    "    data.append(row)\n",
    "data_exog = [x + random() for x in range(100)]\n",
    "# fit model\n",
    "model = VARMAX(data, exog=data_exog, order=(1, 1))\n",
    "model_fit = model.fit(disp=False)\n",
    "# make prediction\n",
    "data_exog2 = [[100]]\n",
    "yhat = model_fit.forecast(exog=data_exog2)\n",
    "print(yhat)"
   ]
  },
  {
   "cell_type": "markdown",
   "metadata": {},
   "source": [
    "# Simple Exponential Smoothing (SES)"
   ]
  },
  {
   "cell_type": "code",
   "execution_count": 28,
   "metadata": {},
   "outputs": [
    {
     "name": "stdout",
     "output_type": "stream",
     "text": [
      "[99.4442112]\n"
     ]
    }
   ],
   "source": [
    "# SES example\n",
    "from statsmodels.tsa.holtwinters import SimpleExpSmoothing\n",
    "from random import random\n",
    "# contrived dataset\n",
    "data = [x + random() for x in range(1, 100)]\n",
    "# fit model\n",
    "model = SimpleExpSmoothing(data)\n",
    "model_fit = model.fit()\n",
    "# make prediction\n",
    "yhat = model_fit.predict(len(data), len(data))\n",
    "print(yhat)"
   ]
  },
  {
   "cell_type": "markdown",
   "metadata": {},
   "source": [
    "# Holt Winter’s Exponential Smoothing (HWES)"
   ]
  },
  {
   "cell_type": "code",
   "execution_count": 29,
   "metadata": {},
   "outputs": [
    {
     "name": "stdout",
     "output_type": "stream",
     "text": [
      "[99.00847223]\n"
     ]
    }
   ],
   "source": [
    "# HWES example\n",
    "from statsmodels.tsa.holtwinters import ExponentialSmoothing\n",
    "from random import random\n",
    "# contrived dataset\n",
    "data = [x + random() for x in range(1, 100)]\n",
    "# fit model\n",
    "model = ExponentialSmoothing(data)\n",
    "model_fit = model.fit()\n",
    "# make prediction\n",
    "yhat = model_fit.predict(len(data), len(data))\n",
    "print(yhat)"
   ]
  },
  {
   "cell_type": "code",
   "execution_count": null,
   "metadata": {},
   "outputs": [],
   "source": []
  }
 ],
 "metadata": {
  "kernelspec": {
   "display_name": "Python 3",
   "language": "python",
   "name": "python3"
  },
  "language_info": {
   "codemirror_mode": {
    "name": "ipython",
    "version": 3
   },
   "file_extension": ".py",
   "mimetype": "text/x-python",
   "name": "python",
   "nbconvert_exporter": "python",
   "pygments_lexer": "ipython3",
   "version": "3.7.6"
  }
 },
 "nbformat": 4,
 "nbformat_minor": 4
}
